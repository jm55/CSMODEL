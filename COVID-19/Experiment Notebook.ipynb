{
 "cells": [
  {
   "cell_type": "markdown",
   "id": "99f11bd9",
   "metadata": {},
   "source": [
    "# CSMODEL\n",
    "## Project 1 - Group 5\n",
    "\n",
    "### Members:\n",
    "- Alon-alon, Jason Miguel E.\n",
    "- Escalona, Jose Miguel A.\n",
    "- Llorca, Marcelino Francis S."
   ]
  },
  {
   "cell_type": "markdown",
   "id": "189a28d2",
   "metadata": {},
   "source": [
    "### 1. Dataset Representation\n",
    "\n",
    "- About the Dataset<br>\n",
    "\n",
    "The data was provided by Our World in Data (OWID). The file contains different data values that could help paint a better image of a country’s status for COVID-19. The version used in this project will be the July 15, 2021 release of the dataset, however OWID attempts both daily and weekly update of data whenever possible, thus ensuring that the data they provide is the latest possible.\n",
    "\n",
    "- Collection Process and its Implications<br>\n",
    "\n",
    "The collection was done by the Our World in Data Group which is a research group that focuses on research and aggregation of data in a single accessible repository for the purposes of getting a better picture or even solving world problems that can benefit all of mankind. For the specific dataset, they made use of all possible available data that is publicly released by governments of all nations in the world. According to OWID, the data was collected from the following sources which include:\n",
    "    \n",
    "    1. COVID-19 Data Repository of Johns Hopkins University\n",
    "    2. National Government Reports\n",
    "    3. Oxford COVID-19 Government Response Tracker, Blavatnik School of Government\n",
    "    4. United Nations Data (for demographics related data)\n",
    "    5. World Bank Data (for demographics related data)\n",
    "    \n",
    "The data implies that the data presented assumes to be the latest data possible, with its validity ultimately depending on each government's transparency and accuracy with the data they are reporting publicly and to John Hopkins University.\n",
    "    <br>\n",
    "- Structure of Dataset of the File<br>\n",
    "\n",
    "    The dataset's structure consists of 102,475 observations with 60 variables available. The structure goes on every country's date when it reported either its first COVID-19 case or first COVID-19 test. The dataset was already distributed publicly on a single file containing all of the relevant information possible. There is however other datasets which contain specific and specialized versions of the current dataset we are using that is also available for use on OWID's Github repository.\n",
    "    \n",
    "    | iso_code | continent | location | date | data1 | ... | dataX |\n",
    "    | --- | --- | --- | --- | --- | --- | --- |\n",
    "    | PHL | Asia | Philippines | 0000-00-01 | data | ... | dataX |\n",
    "    | PHL | Asia | Philippines | 0000-00-02 | data | ... | dataX |\n",
    "    | JPN | Asia | Japan | 0000-00-01 | data | ... | dataX |\n",
    "    | JPN | Asia | Japan | 0000-00-02 | data | ... | dataX |\n",
    "    | SGP | Asia | Singapore | 0000-00-01 | data | ... | dataX |\n",
    "    | SGP | Asia | Singapore | 0000-00-02 | data | ... | dataX |\n",
    "    | SGP | Asia | Singapore | 0000-00-03 | data | ... | dataX |\n",
    "\n",
    "    The list of locations are a mixture of continents and actual countries, as recognized by OWID, which may or may not be legally recognized by the international community.\n",
    "    <br>\n",
    "- About the Variables<br>\n",
    "    \n",
    "    The dataset has 60 variables, most of which relate to COVID-19 related numbers such as cases, deaths, recoveries, vaccinations among others, as well as demographic data such as GDP per capita, HDI, median age, population, population density among others."
   ]
  },
  {
   "cell_type": "code",
   "execution_count": 1,
   "id": "b5de9a6f",
   "metadata": {},
   "outputs": [
    {
     "name": "stdout",
     "output_type": "stream",
     "text": [
      "LOADING LIBRARIES...\n",
      "AUTOMATED MODE: True\n",
      "Raw Dataframe Shape: (102475, 60) \n",
      " =================================\n",
      "<class 'pandas.core.frame.DataFrame'>\n",
      "RangeIndex: 102475 entries, 0 to 102474\n",
      "Data columns (total 60 columns):\n",
      " #   Column                                 Non-Null Count   Dtype  \n",
      "---  ------                                 --------------   -----  \n",
      " 0   iso_code                               102475 non-null  object \n",
      " 1   continent                              97689 non-null   object \n",
      " 2   location                               102475 non-null  object \n",
      " 3   date                                   102475 non-null  object \n",
      " 4   total_cases                            98594 non-null   float64\n",
      " 5   new_cases                              98591 non-null   float64\n",
      " 6   new_cases_smoothed                     97581 non-null   float64\n",
      " 7   total_deaths                           88371 non-null   float64\n",
      " 8   new_deaths                             88527 non-null   float64\n",
      " 9   new_deaths_smoothed                    97581 non-null   float64\n",
      " 10  total_cases_per_million                98070 non-null   float64\n",
      " 11  new_cases_per_million                  98067 non-null   float64\n",
      " 12  new_cases_smoothed_per_million         97062 non-null   float64\n",
      " 13  total_deaths_per_million               87860 non-null   float64\n",
      " 14  new_deaths_per_million                 88016 non-null   float64\n",
      " 15  new_deaths_smoothed_per_million        97062 non-null   float64\n",
      " 16  reproduction_rate                      82782 non-null   float64\n",
      " 17  icu_patients                           10688 non-null   float64\n",
      " 18  icu_patients_per_million               10688 non-null   float64\n",
      " 19  hosp_patients                          12916 non-null   float64\n",
      " 20  hosp_patients_per_million              12916 non-null   float64\n",
      " 21  weekly_icu_admissions                  951 non-null     float64\n",
      " 22  weekly_icu_admissions_per_million      951 non-null     float64\n",
      " 23  weekly_hosp_admissions                 1614 non-null    float64\n",
      " 24  weekly_hosp_admissions_per_million     1614 non-null    float64\n",
      " 25  new_tests                              45788 non-null   float64\n",
      " 26  total_tests                            45457 non-null   float64\n",
      " 27  total_tests_per_thousand               45457 non-null   float64\n",
      " 28  new_tests_per_thousand                 45788 non-null   float64\n",
      " 29  new_tests_smoothed                     53305 non-null   float64\n",
      " 30  new_tests_smoothed_per_thousand        53305 non-null   float64\n",
      " 31  positive_rate                          49803 non-null   float64\n",
      " 32  tests_per_case                         49173 non-null   float64\n",
      " 33  tests_units                            54997 non-null   object \n",
      " 34  total_vaccinations                     18050 non-null   float64\n",
      " 35  people_vaccinated                      17196 non-null   float64\n",
      " 36  people_fully_vaccinated                14334 non-null   float64\n",
      " 37  new_vaccinations                       15041 non-null   float64\n",
      " 38  new_vaccinations_smoothed              31499 non-null   float64\n",
      " 39  total_vaccinations_per_hundred         18050 non-null   float64\n",
      " 40  people_vaccinated_per_hundred          17196 non-null   float64\n",
      " 41  people_fully_vaccinated_per_hundred    14334 non-null   float64\n",
      " 42  new_vaccinations_smoothed_per_million  31499 non-null   float64\n",
      " 43  stringency_index                       85982 non-null   float64\n",
      " 44  population                             101817 non-null  float64\n",
      " 45  population_density                     95179 non-null   float64\n",
      " 46  median_age                             91455 non-null   float64\n",
      " 47  aged_65_older                          90429 non-null   float64\n",
      " 48  aged_70_older                          90950 non-null   float64\n",
      " 49  gdp_per_capita                         91824 non-null   float64\n",
      " 50  extreme_poverty                        61921 non-null   float64\n",
      " 51  cardiovasc_death_rate                  91810 non-null   float64\n",
      " 52  diabetes_prevalence                    94235 non-null   float64\n",
      " 53  female_smokers                         71798 non-null   float64\n",
      " 54  male_smokers                           70751 non-null   float64\n",
      " 55  handwashing_facilities                 46133 non-null   float64\n",
      " 56  hospital_beds_per_thousand             83618 non-null   float64\n",
      " 57  life_expectancy                        97312 non-null   float64\n",
      " 58  human_development_index                91948 non-null   float64\n",
      " 59  excess_mortality                       3624 non-null    float64\n",
      "dtypes: float64(55), object(5)\n",
      "memory usage: 46.9+ MB\n",
      "None\n",
      "Location List: ['Afghanistan' 'Africa' 'Albania' 'Algeria' 'Andorra' 'Angola' 'Anguilla'\n",
      " 'Antigua and Barbuda' 'Argentina' 'Armenia' 'Aruba' 'Asia' 'Australia'\n",
      " 'Austria' 'Azerbaijan' 'Bahamas' 'Bahrain' 'Bangladesh' 'Barbados'\n",
      " 'Belarus' 'Belgium' 'Belize' 'Benin' 'Bermuda' 'Bhutan' 'Bolivia'\n",
      " 'Bonaire Sint Eustatius and Saba' 'Bosnia and Herzegovina' 'Botswana'\n",
      " 'Brazil' 'British Virgin Islands' 'Brunei' 'Bulgaria' 'Burkina Faso'\n",
      " 'Burundi' 'Cambodia' 'Cameroon' 'Canada' 'Cape Verde' 'Cayman Islands'\n",
      " 'Central African Republic' 'Chad' 'Chile' 'China' 'Colombia' 'Comoros'\n",
      " 'Congo' 'Cook Islands' 'Costa Rica' \"Cote d'Ivoire\" 'Croatia' 'Cuba'\n",
      " 'Curacao' 'Cyprus' 'Czechia' 'Democratic Republic of Congo' 'Denmark'\n",
      " 'Djibouti' 'Dominica' 'Dominican Republic' 'Ecuador' 'Egypt'\n",
      " 'El Salvador' 'Equatorial Guinea' 'Eritrea' 'Estonia' 'Eswatini'\n",
      " 'Ethiopia' 'Europe' 'European Union' 'Faeroe Islands' 'Falkland Islands'\n",
      " 'Fiji' 'Finland' 'France' 'French Polynesia' 'Gabon' 'Gambia' 'Georgia'\n",
      " 'Germany' 'Ghana' 'Gibraltar' 'Greece' 'Greenland' 'Grenada' 'Guatemala'\n",
      " 'Guernsey' 'Guinea' 'Guinea-Bissau' 'Guyana' 'Haiti' 'Honduras'\n",
      " 'Hong Kong' 'Hungary' 'Iceland' 'India' 'Indonesia' 'International'\n",
      " 'Iran' 'Iraq' 'Ireland' 'Isle of Man' 'Israel' 'Italy' 'Jamaica' 'Japan'\n",
      " 'Jersey' 'Jordan' 'Kazakhstan' 'Kenya' 'Kiribati' 'Kosovo' 'Kuwait'\n",
      " 'Kyrgyzstan' 'Laos' 'Latvia' 'Lebanon' 'Lesotho' 'Liberia' 'Libya'\n",
      " 'Liechtenstein' 'Lithuania' 'Luxembourg' 'Macao' 'Madagascar' 'Malawi'\n",
      " 'Malaysia' 'Maldives' 'Mali' 'Malta' 'Marshall Islands' 'Mauritania'\n",
      " 'Mauritius' 'Mexico' 'Micronesia (country)' 'Moldova' 'Monaco' 'Mongolia'\n",
      " 'Montenegro' 'Montserrat' 'Morocco' 'Mozambique' 'Myanmar' 'Namibia'\n",
      " 'Nauru' 'Nepal' 'Netherlands' 'New Caledonia' 'New Zealand' 'Nicaragua'\n",
      " 'Niger' 'Nigeria' 'Niue' 'North America' 'North Macedonia'\n",
      " 'Northern Cyprus' 'Norway' 'Oceania' 'Oman' 'Pakistan' 'Palestine'\n",
      " 'Panama' 'Papua New Guinea' 'Paraguay' 'Peru' 'Philippines' 'Pitcairn'\n",
      " 'Poland' 'Portugal' 'Qatar' 'Romania' 'Russia' 'Rwanda' 'Saint Helena'\n",
      " 'Saint Kitts and Nevis' 'Saint Lucia' 'Saint Vincent and the Grenadines'\n",
      " 'Samoa' 'San Marino' 'Sao Tome and Principe' 'Saudi Arabia' 'Senegal'\n",
      " 'Serbia' 'Seychelles' 'Sierra Leone' 'Singapore'\n",
      " 'Sint Maarten (Dutch part)' 'Slovakia' 'Slovenia' 'Solomon Islands'\n",
      " 'Somalia' 'South Africa' 'South America' 'South Korea' 'South Sudan'\n",
      " 'Spain' 'Sri Lanka' 'Sudan' 'Suriname' 'Sweden' 'Switzerland' 'Syria'\n",
      " 'Taiwan' 'Tajikistan' 'Tanzania' 'Thailand' 'Timor' 'Togo' 'Tonga'\n",
      " 'Trinidad and Tobago' 'Tunisia' 'Turkey' 'Turkmenistan'\n",
      " 'Turks and Caicos Islands' 'Tuvalu' 'Uganda' 'Ukraine'\n",
      " 'United Arab Emirates' 'United Kingdom' 'United States' 'Uruguay'\n",
      " 'Uzbekistan' 'Vanuatu' 'Vatican' 'Venezuela' 'Vietnam'\n",
      " 'Wallis and Futuna' 'World' 'Yemen' 'Zambia' 'Zimbabwe']\n"
     ]
    }
   ],
   "source": [
    "print(\"LOADING LIBRARIES...\")\n",
    "import numpy as np\n",
    "import pandas as pd\n",
    "import matplotlib.pyplot as plt\n",
    "from scipy.stats import norm\n",
    "from scipy.stats import ttest_ind\n",
    "\n",
    "bar = \"=================================\"\n",
    "automated = True #Manual entry or pre-defined entries\n",
    "print(\"AUTOMATED MODE:\",automated)\n",
    "\n",
    "#Code for data preparation\n",
    "#PREPARE FILES AND RAW DATAFRAME\n",
    "raw_df = None\n",
    "if(not automated):\n",
    "    filename = input(\"Enter Filename of CSV file (including .csv): \")\n",
    "    raw_df = pd.read_csv(filename)\n",
    "else:\n",
    "    raw_df = pd.read_csv(\"COVID_7_15.csv\")\n",
    "#Raw file reading: make use of covid_df.readline() to retrieve a str line (as str) from\n",
    "\n",
    "print(\"Raw Dataframe Shape:\", raw_df.shape,\"\\n\",bar)\n",
    "print(raw_df.info())\n",
    "print(\"Location List:\",raw_df[\"location\"].unique())"
   ]
  },
  {
   "cell_type": "markdown",
   "id": "9ed20c65",
   "metadata": {},
   "source": [
    "### 2. Data Cleaning"
   ]
  },
  {
   "cell_type": "markdown",
   "id": "9dff5d27",
   "metadata": {},
   "source": [
    "Given that there are a lot of nations and variables to consider, it has been decided to reduce to scope of nations to just the ASEAN nations as well as the World as a baseline. The consideration for ASEAN nations was made because of the following reasons:\n",
    "\n",
    "1. Near proximity\n",
    "2. Economic integration\n",
    "3. Similar level economies and populations\n",
    "\n",
    "This could help us determine the COVID-19 status of the Philippines to its neighbors as well as the World if ever it is applicable.\n",
    "\n",
    "The most of the columns are to be ommitted since it contains pre-treated values, specialized values, or varying values (in terms of the unit of measurement).\n",
    "\n",
    "The columns that were retained:\n",
    "- 'total_cases'\n",
    "- 'new_cases'\n",
    "- 'total_deaths'\n",
    "- 'new_deaths'\n",
    "- 'total_vaccinations'\n",
    "- 'people_vaccinated'\n",
    "- 'people_fully_vaccinated'\n",
    "- 'new_vaccinations'\n",
    "- 'stringency_index'\n",
    "- 'population'\n",
    "- 'gdp_per_capita'"
   ]
  },
  {
   "cell_type": "markdown",
   "id": "8c27719b",
   "metadata": {},
   "source": [
    "The script below crunches the raw data and produces a covid_df containing:\n",
    "1. World COVID-19 Data (from OWID)\n",
    "2. ASEAN COVID-19 Data (Containing 10 Countries, including the Philippines)\n",
    "3. Philippine COVID-19 Data\n",
    "\n",
    "Do note however that any observation on a certain day that does not meet the required number of observations (i.e. countries that reported that day) will be automatically omitted from the resulting group dataframe. This was done in order to prevent outliers in the data and to reduce the erraticness of the output which matters since most of the data is of sum and mean value nature."
   ]
  },
  {
   "cell_type": "code",
   "execution_count": 2,
   "id": "e2db3cc5",
   "metadata": {
    "scrolled": false
   },
   "outputs": [
    {
     "name": "stdout",
     "output_type": "stream",
     "text": [
      "LOADING ADDITIONAL LIBRARIES...\n",
      "CHECKPOINT: False\n",
      "DROPPING COLUMNS...\n",
      "FILTERING COUNTRIES...\n",
      "DATA CLEANUP (NaN->0)...\n",
      "AGGREGATING ASEAN COUNTRIES...\n",
      "COMBINING DATAFRAMES...\n",
      "Complete iso_code: ['BRN' 'KHM' 'IDN' 'LAO' 'MYS' 'MMR' 'PHL' 'SGP' 'THA' 'VNM' 'MDL_SEA'\n",
      " 'OWID_WRL']\n",
      "FILE PROCESSING COMPLETE!\n",
      "DATAFRAMES AVAILABLE FOR USE: covid_df, world_df, group_df, ph_df, complete_df\n"
     ]
    }
   ],
   "source": [
    "#CSMODEL: COVID-19 Dataset\n",
    "#Crunches data of selected countries to a grouped one\n",
    "\n",
    "print(\"LOADING ADDITIONAL LIBRARIES...\")\n",
    "import re #For regex\n",
    "\n",
    "#GLOBAL VARIABLES\n",
    "checkpoint = False\n",
    "print(\"CHECKPOINT:\",checkpoint)\n",
    "NaN = float(\"nan\")\n",
    "group_pop = 0 #Placeholder for the population of group of nations specified.\n",
    "\n",
    "#CUSTOM FUNCTIONS\n",
    "def listDates(df): #Sorts the 'date' column of a given DataFrame and returns it.\n",
    "    date_sorted = df['date'].unique()\n",
    "    date_sorted = np.sort(date_sorted,kind='mergesort')\n",
    "    return date_sorted\n",
    "def fillZeros(size): #Returns a list of zeros from a specified size\n",
    "    return np.zeros(size).tolist()\n",
    "def writeCheckpoint(df, filename): #Writes a given DataFrame to a CSV file\n",
    "    if(checkpoint):\n",
    "        print(\"WRITING CHECKPOINT...\")\n",
    "        df.to_csv(filename+\".csv\",index=False)\n",
    "        print(\"Checkpoint Complete:\",filename)\n",
    "def aggregator(src_df,iso_code,continent,location,count): #Aggregates the given DataFrame to a grouped version\n",
    "    tmp_df = pd.DataFrame(columns=toRetain) \n",
    "    for i in range(dateCount):\n",
    "        sp_date = date_values[i] #Specified date\n",
    "        filtered_df = src_df[src_df['date']==sp_date] #Series of nations with specified date\n",
    "        observations = filtered_df.shape[0]\n",
    "        if(observations == count): #Will run only if all countries listed are there\n",
    "            id = [iso_code,continent,location,sp_date] #Default identifiers for ASEAN\n",
    "            data = fillZeros(len(toRetainData))\n",
    "            for j in range(observations):\n",
    "                #add current data with the retrieved data\n",
    "                retrieve = filtered_df[toRetainData].iloc[j].tolist()\n",
    "                #print(retrieve)\n",
    "                data = list(map(lambda x,y:x+y,retrieve,data))\n",
    "            #Make values in average if they are based on trends (Keyword: new, per_xxxx)\n",
    "            #0-3 = iso_code,continent,location,date; equated to id\n",
    "            data[1] = data[1]/observations #new cases\n",
    "            data[3] = data[3]/observations #new deaths\n",
    "            data[6] = data[6]/observations #new_vaccinations\n",
    "            data[8] = data[8]/observations #stringency_index\n",
    "            data[9] = group_pop #population\n",
    "            data[10] = data[10]/observations #gdp_per_capita\n",
    "            result = id+data\n",
    "            tmp_df.loc[tmp_df.shape[0]] = result #\"ADDS\" THE RESULTING LIST AT THE END OF THE DATAFRAME\n",
    "    return tmp_df\n",
    "def dateRange(df): #Finds the lowest and highest date recorded.\n",
    "    date_values = df['date'].unique()\n",
    "    date_values = np.sort(date_values,kind='mergesort')\n",
    "    dateCount = date_values.size\n",
    "    return [date_values[0], date_values[len(date_values)-1]] #the latest possible data maybe incomplete thus the day prior the latest will be used\n",
    "\n",
    "#PREPARE FILES AND RAW DATAFRAME\n",
    "covid_df = raw_df.copy(deep=True)\n",
    "#Raw file reading: make use of covid_df.readline() to retrieve a str line (as str) from\n",
    "\n",
    "#DATE SORTING AND VALUES\n",
    "date_values = listDates(covid_df)\n",
    "dateCount = date_values.size\n",
    "\n",
    "#COLUMNS TO RETAIN\n",
    "toRetain = ['iso_code','continent','location','date','total_cases','new_cases','total_deaths','new_deaths','total_vaccinations','people_vaccinated','people_fully_vaccinated','new_vaccinations','stringency_index',\n",
    "            'population','gdp_per_capita']\n",
    "toRetainData = toRetain[4:]\n",
    "identifiers = toRetain[0:4]\n",
    "#LIST OF ONLY DATA THAT CAN BE USED IN A COLLECTIVE MANNER (AS USED BY OWID ITSELF)\n",
    "forCollective = ['total_cases','new_cases','new_cases_smoothed','total_deaths','new_deaths','new_deaths_smoothed','total_cases_per_million'\n",
    "                ,'new_cases_per_million','new_cases_smoothed_per_million','total_deaths_per_million','new_deaths_per_million','new_deaths_smoothed_per_million','total_vaccinations'\n",
    "                ,'people_vaccinated','people_fully_vaccinated','new_vaccinations','new_vaccinations_smoothed','total_vaccinations_per_hundred','people_vaccinated_per_hundred'\n",
    "                ,'people_fully_vaccinated_per_hundred','new_vaccinations_smoothed_per_million','population']\n",
    "#LIST OF COUNTRIES TO RETAIN\n",
    "targetCountries = ['PHL','BRN','KHM','IDN','SGP','LAO','THA','MYS','MMR','VNM']\n",
    "\n",
    "#DROP COLUMNS\n",
    "print(\"DROPPING COLUMNS...\")\n",
    "toDrop = list(set(covid_df.columns.tolist()) - set(toRetain))\n",
    "covid_df = covid_df.drop(columns=toDrop)\n",
    "\n",
    "#FILTERING COUNTRIES\n",
    "print(\"FILTERING COUNTRIES...\")\n",
    "ph_df = covid_df[covid_df['iso_code']=='PHL'] #PH ONLY\n",
    "world_df = covid_df[covid_df['iso_code'].str.contains('OWID_WRL')] #OVERALL WORLD DATA BY OWID\n",
    "covid_df = covid_df[covid_df['iso_code'].str.contains(re.compile('|'.join(targetCountries)),regex=True)] #ASEAN NATIONS; YOU CAN CHANGE LIST OF COUNTRIES TO FOCUS\n",
    "\n",
    "#FIND TOTAL POPULATION OF ASEAN\n",
    "pop = covid_df[covid_df['date']==dateRange(covid_df)[1]]\n",
    "if(pop.shape[0] != len(targetCountries)): #REFERENCES TO targetCountries\n",
    "    print(\"COUNTRIES!=\",len(targetCountries),\"AT MAX DATE!\")\n",
    "    exit()\n",
    "group_pop = pop['population'].sum()\n",
    "\n",
    "#DATA CLEANUP: NaN->0\n",
    "print(\"DATA CLEANUP (NaN->0)...\")\n",
    "for i in range(0,len(toRetain),1):\n",
    "    covid_df.loc[covid_df[toRetain[i]].isnull(),toRetain[i]]=0\n",
    "\n",
    "#READING CONENTS OF EACH OBSERVATION AVAILABLE OF ALL COUNTRIES AVAILABLE ON A GIVEN DATE \n",
    "#NOT THE MOST EFFICIENT ALGO AS IT RUNS AT O(n*m)\n",
    "#WILL MAKE USE OF THE CURRENT LIST OF COUNTRIES AVAILABLE AT covid_df.\n",
    "print(\"AGGREGATING ASEAN COUNTRIES...\")\n",
    "group_df = aggregator(covid_df,\"MDL_SEA\",NaN,\"Asia\",len(targetCountries)) #Will hold the resulting aggregation of ASEAN countries\n",
    "\n",
    "#ASEAN Checkpoint\n",
    "writeCheckpoint(group_df,\"asean_checkpoint\")\n",
    "\n",
    "#Combined dataframes\n",
    "print(\"COMBINING DATAFRAMES...\")\n",
    "complete_df = pd.concat([covid_df,group_df,world_df])\n",
    "print(\"Complete iso_code:\",complete_df['iso_code'].unique())\n",
    "\n",
    "print(\"FILE PROCESSING COMPLETE!\")\n",
    "\n",
    "print(\"DATAFRAMES AVAILABLE FOR USE: covid_df, world_df, group_df, ph_df, complete_df\")"
   ]
  },
  {
   "cell_type": "markdown",
   "id": "452328cb",
   "metadata": {},
   "source": [
    "**The following dataframes could be used for the proceeding code:**\n",
    "- covid_df = Choosen Countries COVID data (ASEAN in this case)\n",
    "- group_df = Overall ASEAN COVID data\n",
    "- world_df = Overall World COVID data\n",
    "- ph_df = Philippine COVID data\n",
    "- complete_df = Dataframes covid_df, group_df, world_df combined"
   ]
  },
  {
   "cell_type": "code",
   "execution_count": 3,
   "id": "dda760c4",
   "metadata": {},
   "outputs": [
    {
     "name": "stdout",
     "output_type": "stream",
     "text": [
      "covid_df : 2020-03-09 => 2021-07-14\n",
      "group_df : 2020-03-27 => 2021-07-14\n",
      "world_df : 2020-01-22 => 2021-07-14\n",
      "ph_df : 2020-01-30 => 2021-07-14\n",
      "complete_df : 2020-03-09 => 2021-07-14\n"
     ]
    }
   ],
   "source": [
    "#Sorting DataFrames by Date\n",
    "def minmaxDates(capsule, capsule_str):\n",
    "    for i in range(len(capsule)):\n",
    "        print(capsule_str[i],\":\",capsule[i]['date'].iloc[0],\"=>\",capsule[i]['date'].iloc[capsule[i].shape[0]-1])\n",
    "\n",
    "covid_df.sort_values(by='date')\n",
    "group_df.sort_values(by='date')\n",
    "world_df.sort_values(by='date')\n",
    "ph_df.sort_values(by='date')\n",
    "complete_df.sort_values(by='date')\n",
    "\n",
    "capsule = [covid_df, group_df, world_df, ph_df,complete_df]\n",
    "capsule_str = ['covid_df','group_df','world_df','ph_df','complete_df']\n",
    "\n",
    "minmaxDates(capsule,capsule_str)"
   ]
  },
  {
   "cell_type": "markdown",
   "id": "c9422e4c",
   "metadata": {},
   "source": [
    "Based from the output above, the only valid data that is possible to use are those starting April 1 of 2020 up to July 1 of 2021."
   ]
  },
  {
   "cell_type": "code",
   "execution_count": 4,
   "id": "10a762c0",
   "metadata": {
    "scrolled": true
   },
   "outputs": [
    {
     "name": "stdout",
     "output_type": "stream",
     "text": [
      "covid_df : 2020-04-01 => 2021-07-01\n",
      "group_df : 2020-04-01 => 2021-07-01\n",
      "world_df : 2020-04-01 => 2021-07-01\n",
      "ph_df : 2020-04-01 => 2021-07-01\n",
      "complete_df : 2020-04-01 => 2021-07-01\n",
      "\n",
      "DataFrame Shapes\n",
      "covid_df: (4570, 15)\n",
      "group_df: (457, 15)\n",
      "world_df: (457, 15)\n",
      "ph_df: (457, 15)\n",
      "complete_df: (5484, 15)\n"
     ]
    }
   ],
   "source": [
    "#DROPPING OBSERVATIONS THAT FALL BELOW THE RECOMMENDED MINIMUM DATE\n",
    "minDate = '2020-04-01'\n",
    "maxDate = '2021-07-01'\n",
    "covid_df = covid_df[(covid_df['date'] >= minDate) & (covid_df['date'] <= maxDate)]\n",
    "group_df = group_df[(group_df['date'] >= minDate) & (group_df['date'] <= maxDate)]\n",
    "world_df = world_df[(world_df['date'] >= minDate) & (world_df['date'] <= maxDate)]\n",
    "ph_df = ph_df[(ph_df['date'] >= minDate) & (ph_df['date'] <= maxDate)]\n",
    "complete_df = complete_df[(complete_df['date'] >= minDate) & (complete_df['date'] <= maxDate)]\n",
    "\n",
    "capsule = [covid_df, group_df, world_df, ph_df, complete_df]\n",
    "minmaxDates(capsule,capsule_str)\n",
    "\n",
    "print(\"\\nDataFrame Shapes\")\n",
    "print(\"covid_df:\",covid_df.shape)\n",
    "print(\"group_df:\",group_df.shape)\n",
    "print(\"world_df:\",world_df.shape)\n",
    "print(\"ph_df:\",ph_df.shape)\n",
    "print(\"complete_df:\",complete_df.shape)"
   ]
  },
  {
   "cell_type": "markdown",
   "id": "205b5a0f",
   "metadata": {},
   "source": [
    "The dataframe covid_df contains 10 countries thus covid_df has effectively 457 observations as well which means that all dataframes are already \"synchronized\"."
   ]
  },
  {
   "cell_type": "markdown",
   "id": "84be764f",
   "metadata": {},
   "source": [
    "### 3. Exploratory Data Analysis\n",
    "\n",
    "EDA Questions:<br>\n",
    "1. Do case trends increase/decrease on (all) listed countries by month?\n",
    "2. Is there a correlation between the GDP per capita to hospital and ICU patients of a country?\n",
    "3. Do case numbers correlate negatively with the number of people being vaccinated?"
   ]
  },
  {
   "cell_type": "markdown",
   "id": "37bb1a9a",
   "metadata": {},
   "source": [
    "**1. Do case trends (new_cases) in the Philippines significantly differ to ASEAN on a monthly average?**<br>\n",
    "\n",
    "Compares PH monthly case trend on a monthly average and checks if there is a significant differences against the same monthly average on ASEAN.\n",
    "\n",
    "===========<br>\n",
    "- Month Period Average of ASEAN = POP.MEAN 10*~30 ~= 300\n",
    "- Month Period Average of PH = SAMPLE.MEAN ~30"
   ]
  },
  {
   "cell_type": "code",
   "execution_count": 5,
   "id": "9cc7cb95",
   "metadata": {},
   "outputs": [
    {
     "name": "stdout",
     "output_type": "stream",
     "text": [
      "            new_cases               \n",
      "                 mean            std\n",
      "iso_code                            \n",
      "BRN            8.2500       8.582929\n",
      "IDN       137598.7500  108523.212287\n",
      "KHM         3204.6875    6582.621035\n",
      "LAO          133.4375     326.085054\n",
      "MMR         9958.2500   14484.655635\n",
      "MYS        47262.5625   58275.518767\n",
      "PHL        88515.8125   82065.240029\n",
      "SGP         3853.9375    5890.824486\n",
      "THA        16448.9375   32754.826137\n",
      "VNM         1094.6875    2517.947252\n",
      "           new_cases              \n",
      "                mean           std\n",
      "iso_code                          \n",
      "PHL       88515.8125  82065.240029\n",
      "            new_cases              \n",
      "                 mean           std\n",
      "iso_code                           \n",
      "MDL_SEA   30807.93125  24083.555577\n"
     ]
    }
   ],
   "source": [
    "def findMonthly(df,mode,asDataFrame): #REFACTORED CODE BY JASON FOR REUSABILITY\n",
    "    df.groupby('iso_code')\n",
    "    df['date'].str[:7]\n",
    "    df = df.assign(year_month = df['date'].str[:7])\n",
    "    list = []\n",
    "    if mode=='sum':\n",
    "        list = df.groupby(['iso_code','year_month']).new_cases.sum()\n",
    "    if mode=='mean':\n",
    "        list = df.groupby(['iso_code','year_month']).new_cases.mean()\n",
    "    if asDataFrame:\n",
    "        return pd.DataFrame(list).reset_index()\n",
    "    else:\n",
    "        return list\n",
    "def agg(df, groupCol, targetCol, aggValues):\n",
    "    return df.groupby(groupCol).agg({targetCol:aggValues})\n",
    "    \n",
    "#Add a \"year_month\" column based on \"date\" column\n",
    "df_monthly_totals = findMonthly(covid_df,'sum',True)\n",
    "ph_df_monthly_totals = findMonthly(ph_df,'sum',True)\n",
    "asean_monthly_totals = findMonthly(group_df,'sum',True)\n",
    "\n",
    "df_agg = agg(df_monthly_totals, 'iso_code', 'new_cases', ['mean','std'])\n",
    "asean_agg = agg(ph_df_monthly_totals, 'iso_code', 'new_cases', ['mean','std'])\n",
    "ph_agg = agg(asean_monthly_totals, 'iso_code', 'new_cases', ['mean','std'])\n",
    "\n",
    "print(df_agg)\n",
    "print(asean_agg)\n",
    "print(ph_agg)"
   ]
  },
  {
   "cell_type": "markdown",
   "id": "300b67b0",
   "metadata": {},
   "source": [
    "### 4. Research Question"
   ]
  },
  {
   "cell_type": "markdown",
   "id": "93e34715",
   "metadata": {},
   "source": [
    "1. Is there a significant difference between ASEAN member nations in total and new case numbers?<br><br>\n",
    "    1. Scope in Dataset: Total cases and/or New cases\n",
    "    2. Significance: This is in order to know how the Philippines fare against COVID-19 in comparison to our neighboring countries in the ASEAN as well as in the world."
   ]
  },
  {
   "cell_type": "markdown",
   "id": "af916360",
   "metadata": {},
   "source": [
    "2. Can the government’s capability of conducting vaccinations catch up to the rate of new cases? <br><br>\n",
    "    1. Each specific 'group' will be of a specific month (i.e. 1st day of the month; First vaccines arrived at February 28, 2021)\n",
    "    2. New Vaccinations vs New Cases; However numbers (totals) will vary from each other"
   ]
  },
  {
   "cell_type": "markdown",
   "id": "be207b34",
   "metadata": {},
   "source": [
    "3. Is there a significant difference between the people who receive at least one vaccine to those that have not received two doses? <br><br>\n",
    " 1. 'total_vaccination' vs people_fully_vaccinated and 'total_vaccination' vs people_vaccinated\n",
    " 2. Each specific 'group' will be of a specific month (i.e. 1st day of the month; First vaccines arrived at February 28, 2021; will be latter part of March where we will see fully vaccinated numbers to come up)"
   ]
  },
  {
   "cell_type": "markdown",
   "id": "b80790ac",
   "metadata": {},
   "source": [
    "### 5. Statistical Inference"
   ]
  },
  {
   "cell_type": "markdown",
   "id": "86cd8dca",
   "metadata": {},
   "source": [
    "**For Research Question 2:** Is there a significant difference between those that received the the prescribed doses of the COVID-19 vaccine against those that ?<br>\n",
    "\n",
    "- Scope of the Data: It will make use the data that is found in people_vaccinated and people_fully_vaccinated in the dataset.\n",
    "- Significance: This question aims to determine if there are is a significant difference between people who have been vaccinated only once versus those that receive all of the prescribed doses. This also will look into\n",
    "\n",
    "$H_0 = $ There is no significant difference between fully vaccinated and vaccinated people.<br> \n",
    "$H_A = $ There is a significant difference between fully vaccinated and vaccinated people.<br>"
   ]
  },
  {
   "cell_type": "markdown",
   "id": "7428eaa3",
   "metadata": {},
   "source": [
    "The requirement for statistical inference for categorical data is that all totals of the category must be equal on all groups involved. In this case the 'groups' are the individual countries in ASEAN, and the 'categories' are whether the people people that received the vaccine only received one dose or both doses.\n",
    "\n",
    "To do this, another column has to be made in the dataframe (covid_df) in order to determine the first dose only vaccinations that have been conducted to a country's population."
   ]
  },
  {
   "cell_type": "code",
   "execution_count": 6,
   "id": "0189714c",
   "metadata": {
    "scrolled": true
   },
   "outputs": [
    {
     "name": "stderr",
     "output_type": "stream",
     "text": [
      "<ipython-input-6-ade5efaa08d6>:2: SettingWithCopyWarning: \n",
      "A value is trying to be set on a copy of a slice from a DataFrame.\n",
      "Try using .loc[row_indexer,col_indexer] = value instead\n",
      "\n",
      "See the caveats in the documentation: https://pandas.pydata.org/pandas-docs/stable/user_guide/indexing.html#returning-a-view-versus-a-copy\n",
      "  covid_df['people_vaccinated'] = covid_df['people_vaccinated'].subtract(covid_df['people_fully_vaccinated'])\n"
     ]
    }
   ],
   "source": [
    "#covid_df = covid_df[(covid_df['people_vaccinated']!=0)&(covid_df['people_fully_vaccinated']!=0)] #removing zero-valued vaccinations\n",
    "covid_df = covid_df.assign(people_partially_vaccinated = lambda x: x['people_vaccinated']-x['people_fully_vaccinated']) #based on owid's graph implying\n",
    "covid_df['vacc_state'] = np.where(covid_df['people_partially_vaccinated']>covid_df['people_fully_vaccinated'],'Partial','Full')"
   ]
  },
  {
   "cell_type": "code",
   "execution_count": null,
   "id": "30d3c417",
   "metadata": {},
   "outputs": [],
   "source": [
    "covid_df[['iso_code','people_partially_vaccinated','people_fully_vaccinated']]"
   ]
  },
  {
   "cell_type": "code",
   "execution_count": 7,
   "id": "ca73cff6",
   "metadata": {},
   "outputs": [
    {
     "name": "stderr",
     "output_type": "stream",
     "text": [
      "<ipython-input-7-3684884e89bb>:7: SettingWithCopyWarning: \n",
      "A value is trying to be set on a copy of a slice from a DataFrame.\n",
      "Try using .loc[row_indexer,col_indexer] = value instead\n",
      "\n",
      "See the caveats in the documentation: https://pandas.pydata.org/pandas-docs/stable/user_guide/indexing.html#returning-a-view-versus-a-copy\n",
      "  covid_df['people_vaccinated'] = covid_df['people_vaccinated']/n*10000\n",
      "<ipython-input-7-3684884e89bb>:8: SettingWithCopyWarning: \n",
      "A value is trying to be set on a copy of a slice from a DataFrame.\n",
      "Try using .loc[row_indexer,col_indexer] = value instead\n",
      "\n",
      "See the caveats in the documentation: https://pandas.pydata.org/pandas-docs/stable/user_guide/indexing.html#returning-a-view-versus-a-copy\n",
      "  covid_df['people_vaccinated'] = covid_df['people_vaccinated'].round()\n",
      "<ipython-input-7-3684884e89bb>:13: SettingWithCopyWarning: \n",
      "A value is trying to be set on a copy of a slice from a DataFrame.\n",
      "Try using .loc[row_indexer,col_indexer] = value instead\n",
      "\n",
      "See the caveats in the documentation: https://pandas.pydata.org/pandas-docs/stable/user_guide/indexing.html#returning-a-view-versus-a-copy\n",
      "  covid_df['people_fully_vaccinated'] = covid_df['people_fully_vaccinated']/n*10000\n",
      "<ipython-input-7-3684884e89bb>:14: SettingWithCopyWarning: \n",
      "A value is trying to be set on a copy of a slice from a DataFrame.\n",
      "Try using .loc[row_indexer,col_indexer] = value instead\n",
      "\n",
      "See the caveats in the documentation: https://pandas.pydata.org/pandas-docs/stable/user_guide/indexing.html#returning-a-view-versus-a-copy\n",
      "  covid_df['people_fully_vaccinated'] = covid_df['people_fully_vaccinated'].round()\n"
     ]
    },
    {
     "data": {
      "text/plain": [
       "array([[<AxesSubplot:title={'center':'people_fully_vaccinated'}>]],\n",
       "      dtype=object)"
      ]
     },
     "execution_count": 7,
     "metadata": {},
     "output_type": "execute_result"
    },
    {
     "data": {
      "image/png": "[encoded data removed]",
      "text/plain": [
       "<Figure size 432x288 with 1 Axes>"
      ]
     },
     "metadata": {
      "needs_background": "light"
     },
     "output_type": "display_data"
    },
    {
     "data": {
      "image/png": "[encoded data removed]",
      "text/plain": [
       "<Figure size 432x288 with 1 Axes>"
      ]
     },
     "metadata": {
      "needs_background": "light"
     },
     "output_type": "display_data"
    }
   ],
   "source": [
    "#Normalizing data on every country of ASEAN\n",
    "#Following Procedure by https://www.statology.org/normalize-data-between-0-and-100/\n",
    "#zi = (xi – min(x)) / (max(x) – min(x)) * 100\n",
    "\n",
    "normalize = True #However, it may not be necessary like in this example: https://www.thoughtco.com/what-is-a-two-way-table-3126240\n",
    "scale = 10000\n",
    "if normalize:\n",
    "    n = np.linalg.norm(covid_df['people_partially_vaccinated'])\n",
    "    covid_df = covid_df.assign(people_partially_vaccinated = lambda x: x['people_partially_vaccinated']/n*scale)\n",
    "    covid_df['people_partially_vaccinated'] = covid_df['people_partially_vaccinated'].round()\n",
    "    n = np.linalg.norm(covid_df['people_fully_vaccinated'])\n",
    "    covid_df = covid_df.assign(people_fully_vaccinated = lambda x: x['people_fully_vaccinated']/n*scale)\n",
    "    covid_df['people_fully_vaccinated'] = covid_df['people_fully_vaccinated'].round()\n",
    "    \n",
    "covid_df.hist(\"people_partially_vaccinated\",bins=20)\n",
    "covid_df.hist(\"people_fully_vaccinated\",bins=20)"
   ]
  },
  {
   "cell_type": "markdown",
   "id": "2f9d275a",
   "metadata": {},
   "source": [
    "Effectively this shows in a $n$ on every $100$ people type format."
   ]
  },
  {
   "cell_type": "code",
   "execution_count": 8,
   "id": "f7438fe2",
   "metadata": {},
   "outputs": [
    {
     "name": "stdout",
     "output_type": "stream",
     "text": [
      "covid_df iso_code: ['BRN' 'KHM' 'IDN' 'LAO' 'MYS' 'MMR' 'PHL' 'SGP' 'THA' 'VNM']\n",
      "single_vacc: [3.8684210526315788, 636.7459016393443, 70.632, 43.70454545454545, 102.8, 107.81451612903226, 317.3333333333333, 58.8, 194.54444444444445, 230.45945945945945]\n",
      "full_vac: [0.8157894736842105, 681.9016393442623, 124.848, 29.59090909090909, 90.4, 80.12903225806451, 121.94444444444444, 89.4, 107.71111111111111, 9.108108108108109]\n"
     ]
    }
   ],
   "source": [
    "def getSample(src_df, group_list, n):\n",
    "    single = []\n",
    "    full = []\n",
    "    for i in range(len(group_list)):\n",
    "        print('iso_code:',group_list[i])\n",
    "        df = src_df[src_df['iso_code']==group_list[i]] #per country\n",
    "        df = src_df[src_df['iso_code']==group_list[i]].sample(n)['vacc_state'].value_counts() #random sample by country\n",
    "        print(df.index.size)\n",
    "        for i in range(df.index.size):\n",
    "            if(df.index[i] == 'Full'):\n",
    "                full.append(df['Full'])\n",
    "            if(df.index[i] == 'Partial'):\n",
    "                single.append(df['Partial'])\n",
    "        if len(single)<len(full):\n",
    "            single.append(0)\n",
    "        elif len(single)>len(full):\n",
    "            full.append(0)\n",
    "    return [single,full]\n",
    "def state(a,b):\n",
    "    if a<b:\n",
    "        return \"Full\"\n",
    "    else:\n",
    "        return \"Partial\"\n",
    "\n",
    "c = getSample(covid_df,covid_df['iso_code'].unique().tolist(),5)\n",
    "single_vacc = c[0].copy()\n",
    "full_vacc = c[1].copy()\n",
    "\n",
    "print(\"covid_df iso_code:\",covid_df['iso_code'].unique())\n",
    "for i in range(covid_df['iso_code'].unique().size):\n",
    "    print(covid_df['iso_code'].unique().tolist()[i],\":\",single_vacc[i],\",\",full_vacc[i],\",\",state(single_vacc[i],full_vacc[i]))\n",
    "\n",
    "print(\"\\n\")\n",
    "\n",
    "combined = [single_vacc,full_vacc]\n",
    "#will make use of this: https://docs.scipy.org/doc/scipy/reference/generated/scipy.stats.chi2_contingency.html\n",
    "chi = stat.chi2_contingency(combined)\n",
    "print(\"chi2:\",chi[0])\n",
    "print(\"pval:\",chi[1],\"< 0.05 =\",chi[1]<0.05)\n",
    "print(\"dof:\",chi[2])#should be 9 since df=(categories-1)(groups-1)=(2-1)(10-1)=1*9=9; 2categories, 10groups\n",
    "\n",
    "#print(\"     partially vaccinated , fully vaccinated\")\n",
    "#for i in range(covid_df['iso_code'].unique().size):\n",
    "    #print(covid_df['iso_code'].unique().tolist()[i],\"=\",chi[3][0][i],\",\",chi[3][1][i])"
   ]
  },
  {
   "cell_type": "markdown",
   "id": "9f4bfd26",
   "metadata": {},
   "source": [
    "### 6. Insights and Conclusions\n",
    "\n",
    "{CONENT}"
   ]
  }
 ],
 "metadata": {
  "kernelspec": {
   "display_name": "Python 3",
   "language": "python",
   "name": "python3"
  },
  "language_info": {
   "codemirror_mode": {
    "name": "ipython",
    "version": 3
   },
   "file_extension": ".py",
   "mimetype": "text/x-python",
   "name": "python",
   "nbconvert_exporter": "python",
   "pygments_lexer": "ipython3",
   "version": "3.8.8"
  }
 },
 "nbformat": 4,
 "nbformat_minor": 5
}
