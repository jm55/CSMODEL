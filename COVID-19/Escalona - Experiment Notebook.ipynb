{
 "cells": [
  {
   "cell_type": "markdown",
   "id": "149ea70f",
   "metadata": {},
   "source": [
    "### 1. Dataset Representation\n",
    "\n",
    "- About the Dataset<br><br>\n",
    "    The data was provided by Our World in Data (OWID). The file contains different data values that could help paint a better image of a country’s status for COVID-19. The version used in this project will be the July 15, 2021 release of the dataset, however OWID attempts both daily and weekly update of data whenever possible, thus ensuring that the data they provide is the latest possible.\n",
    "    <br><br>\n",
    "- Collection Process and its Implications<br><br>\n",
    "    {CONTENT}\n",
    "    <br><br>\n",
    "- Structure of Dataset of the File<br><br>\n",
    "    {CONTENT}\n",
    "    <br><br>\n",
    "- About the Variables<br><br>\n",
    "    {CONTENT}"
   ]
  },
  {
   "cell_type": "code",
   "execution_count": null,
   "id": "eafd3b61",
   "metadata": {},
   "outputs": [],
   "source": [
    "import numpy as np\n",
    "import pandas as pd\n",
    "import matplotlib.pyplot as plt\n",
    "from scipy.stats import norm\n",
    "from scipy.stats import ttest_ind\n",
    "\n",
    "#Code for data preparation\n",
    "raw_df = pd.read_csv('COVID_7_15.csv')\n",
    "print(\"Raw Dataframe Shape:\", raw_df.shape)"
   ]
  },
  {
   "cell_type": "markdown",
   "id": "26ff7bb1",
   "metadata": {},
   "source": [
    "### 2. Data Cleaning"
   ]
  },
  {
   "cell_type": "code",
   "execution_count": null,
   "id": "5fe23427",
   "metadata": {},
   "outputs": [],
   "source": [
    "#Code for data cleaning\n",
    "\n",
    "\n",
    "\n",
    "\n",
    "#Ending dataframe called: covid_df"
   ]
  },
  {
   "cell_type": "markdown",
   "id": "9981de69",
   "metadata": {},
   "source": [
    "### 3. Exploratory Data Analysis\n",
    "\n",
    "EDA Questions<br>\n",
    "1. Do case trends increase/decrease on every listed countries by month?\n",
    "2. Is there a correlation between the GDP per capita to hospital and ICU patients of a country?\n",
    "3. Do case numbers correlate negatively with the number of people being vaccinated?"
   ]
  },
  {
   "cell_type": "markdown",
   "id": "6808d835",
   "metadata": {},
   "source": [
    "**Numerical Summaries**"
   ]
  },
  {
   "cell_type": "code",
   "execution_count": null,
   "id": "86eda608",
   "metadata": {},
   "outputs": [],
   "source": [
    "#Code for numerical summaries"
   ]
  },
  {
   "cell_type": "markdown",
   "id": "25ccbe95",
   "metadata": {},
   "source": [
    "**Visualizations**"
   ]
  },
  {
   "cell_type": "code",
   "execution_count": null,
   "id": "e27ed151",
   "metadata": {},
   "outputs": [],
   "source": [
    "#Code for visualizations"
   ]
  },
  {
   "cell_type": "markdown",
   "id": "1e3c9ae9",
   "metadata": {},
   "source": [
    "### 4. Research Question"
   ]
  },
  {
   "cell_type": "markdown",
   "id": "f11e1dd4",
   "metadata": {},
   "source": [
    "1. Is there a significant difference between ASEAN member nations in total and new case numbers?<br><br>\n",
    "    1. Scope in Dataset: Total cases and/or New cases\n",
    "    2. Significance: This is in order to know how the Philippines fare against COVID-19 in comparison to our neighboring countries in the ASEAN as well as in the world."
   ]
  },
  {
   "cell_type": "markdown",
   "id": "fa53f3fc",
   "metadata": {},
   "source": [
    "2. Is the government meeting its half-way goal of vaccinating a significant number of people?<br><br>"
   ]
  },
  {
   "cell_type": "markdown",
   "id": "b84da07a",
   "metadata": {},
   "source": [
    "### 5. Statistical Inference"
   ]
  },
  {
   "cell_type": "markdown",
   "id": "3add7ef3",
   "metadata": {},
   "source": [
    "**Hyptothesis**<br><br>\n",
    "\n",
    "$H_0=$ \n",
    "<br>\n",
    "$H_A=$ \n",
    "<br>"
   ]
  },
  {
   "cell_type": "code",
   "execution_count": null,
   "id": "f32a1564",
   "metadata": {},
   "outputs": [],
   "source": [
    "#Code for formulating statistical inference and hypothesis testing"
   ]
  },
  {
   "cell_type": "markdown",
   "id": "e3272950",
   "metadata": {},
   "source": [
    "### 6. Insights and Conclusions\n",
    "\n",
    "{CONENT}"
   ]
  }
 ],
 "metadata": {
  "kernelspec": {
   "display_name": "Python 3",
   "language": "python",
   "name": "python3"
  },
  "language_info": {
   "codemirror_mode": {
    "name": "ipython",
    "version": 3
   },
   "file_extension": ".py",
   "mimetype": "text/x-python",
   "name": "python",
   "nbconvert_exporter": "python",
   "pygments_lexer": "ipython3",
   "version": "3.8.8"
  }
 },
 "nbformat": 4,
 "nbformat_minor": 5
}
