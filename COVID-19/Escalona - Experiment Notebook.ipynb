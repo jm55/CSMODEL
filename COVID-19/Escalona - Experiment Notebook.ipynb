{
 "cells": [
  {
   "cell_type": "markdown",
   "id": "189a28d2",
   "metadata": {},
   "source": [
    "### 1. Dataset Representation\n",
    "\n",
    "- About the Dataset<br>\n",
    "\n",
    "The data was provided by Our World in Data (OWID). The file contains different data values that could help paint a better image of a country’s status for COVID-19. The version used in this project will be the July 15, 2021 release of the dataset, however OWID attempts both daily and weekly update of data whenever possible, thus ensuring that the data they provide is the latest possible.\n",
    "\n",
    "- Collection Process and its Implications<br>\n",
    "\n",
    "The collection was done by the Our World in Data Group which is a research group that focuses on research and aggregation of data in a single accessible repository for the purposes of getting a better picture or even solving world problems that can benefit all of mankind. For the specific dataset, they made use of all possible available data that is publicly released by governments of all nations in the world. According to OWID, the data was collected from the following sources which include:\n",
    "    \n",
    "    1. COVID-19 Data Repository of Johns Hopkins University\n",
    "    2. National Government Reports\n",
    "    3. Oxford COVID-19 Government Response Tracker, Blavatnik School of Government\n",
    "    4. United Nations Data (for demographics related data)\n",
    "    5. World Bank Data (for demographics related data)\n",
    "    6. Arroyo Marioli et al. (2020). https://doi.org/10.2139/ssrn.3581633 \n",
    "    \n",
    "The data implies that the data presented assumes to be the latest data possible, with its validity ultimately depending on each government's transparency and accuracy with the data they are reporting publicly and to John Hopkins University.\n",
    "    <br>\n",
    "- Structure of Dataset of the File<br>\n",
    "\n",
    "    The dataset's structure consists of 102,475 observations with 60 variables available. The structure goes on every country's date when it reported either its first COVID-19 case or first COVID-19 test. The dataset was already distributed publicly on a single file containing all of the relevant information possible. There is however other datasets which contain specific and specialized versions of the current dataset we are using that is also available for use on OWID's Github repository.\n",
    "    \n",
    "    <br>\n",
    "- About the Variables<br>\n",
    "    \n",
    "    The dataset has 60 variables, most of which relate to COVID-19 related numbers such as cases, deaths, recoveries, vaccinations among others, as well as demographic data such as GDP per capita, HDI, median age, population, population density among others."
   ]
  },
  {
   "cell_type": "code",
   "execution_count": 1,
   "id": "b5de9a6f",
   "metadata": {},
   "outputs": [
    {
     "name": "stdout",
     "output_type": "stream",
     "text": [
      "Raw Dataframe Shape: (102475, 60)\n"
     ]
    }
   ],
   "source": [
    "import numpy as np\n",
    "import pandas as pd\n",
    "import matplotlib.pyplot as plt\n",
    "from scipy.stats import norm\n",
    "from scipy.stats import ttest_ind\n",
    "\n",
    "#Code for data preparation\n",
    "raw_df = pd.read_csv('COVID_7_15.csv')\n",
    "print(\"Raw Dataframe Shape:\", raw_df.shape)"
   ]
  },
  {
   "cell_type": "markdown",
   "id": "9ed20c65",
   "metadata": {},
   "source": [
    "### 2. Data Cleaning"
   ]
  },
  {
   "cell_type": "markdown",
   "id": "9dff5d27",
   "metadata": {},
   "source": [
    "Given that there are a lot of nations and variables to consider, it has been decided to reduce to scope of nations to just the ASEAN nations as well as the World as a baseline. The consideration for ASEAN nations was made because of the following reasons:\n",
    "\n",
    "1. Near proximity\n",
    "2. Economic integration\n",
    "3. Similar level economies and populations\n",
    "\n",
    "This could help us determine the COVID-19 status of the Philippines to its neighbors as well as the World if ever it is applicable."
   ]
  },
  {
   "cell_type": "code",
   "execution_count": 6,
   "id": "e2db3cc5",
   "metadata": {},
   "outputs": [
    {
     "ename": "NameError",
     "evalue": "name 'covid_df' is not defined",
     "output_type": "error",
     "traceback": [
      "\u001b[1;31m---------------------------------------------------------------------------\u001b[0m",
      "\u001b[1;31mNameError\u001b[0m                                 Traceback (most recent call last)",
      "\u001b[1;32m<ipython-input-6-dc871221d917>\u001b[0m in \u001b[0;36m<module>\u001b[1;34m\u001b[0m\n\u001b[0;32m     15\u001b[0m                 \u001b[1;34m'people_vaccinated'\u001b[0m\u001b[1;33m,\u001b[0m\u001b[1;34m'people_fully_vaccinated'\u001b[0m\u001b[1;33m,\u001b[0m\u001b[1;34m'new_vaccinations'\u001b[0m\u001b[1;33m,\u001b[0m\u001b[1;34m'stringency_index'\u001b[0m\u001b[1;33m,\u001b[0m\u001b[1;33m\u001b[0m\u001b[1;33m\u001b[0m\u001b[0m\n\u001b[0;32m     16\u001b[0m                 'population','gdp_per_capita']\n\u001b[1;32m---> 17\u001b[1;33m \u001b[0mcovid_df\u001b[0m \u001b[1;33m=\u001b[0m \u001b[0mcovid_df\u001b[0m\u001b[1;33m.\u001b[0m\u001b[0mdrop\u001b[0m\u001b[1;33m(\u001b[0m\u001b[0mcolumns\u001b[0m\u001b[1;33m=\u001b[0m\u001b[0mtoDrop\u001b[0m\u001b[1;33m)\u001b[0m\u001b[1;33m\u001b[0m\u001b[1;33m\u001b[0m\u001b[0m\n\u001b[0m\u001b[0;32m     18\u001b[0m \u001b[1;33m\u001b[0m\u001b[0m\n\u001b[0;32m     19\u001b[0m \u001b[1;31m#Ending dataframe called: covid_df\u001b[0m\u001b[1;33m\u001b[0m\u001b[1;33m\u001b[0m\u001b[1;33m\u001b[0m\u001b[0m\n",
      "\u001b[1;31mNameError\u001b[0m: name 'covid_df' is not defined"
     ]
    }
   ],
   "source": [
    "#Code for data cleaning\n",
    "\n",
    "#COLUMN FLAGS\n",
    "identifiers = ['iso_code','continent','location','date']\n",
    "toDrop = ['new_cases_smoothed','new_deaths_smoothed','total_cases_per_million','new_cases_per_million','new_cases_smoothed_per_million'\n",
    "          ,'total_deaths_per_million','new_deaths_per_million','new_deaths_smoothed_per_million','reproduction_rate','icu_patients'\n",
    "          ,'icu_patients_per_million','hosp_patients','hosp_patients_per_million','weekly_icu_admissions','weekly_icu_admissions_per_million'\n",
    "          ,'weekly_hosp_admissions_per_million','female_smokers','male_smokers','excess_mortality','median_age','aged_65_older','aged_70_older'\n",
    "          ,'handwashing_facilities','hospital_beds_per_thousand','population_density','median_age','total_vaccinations_per_hundred'\n",
    "          ,'people_vaccinated_per_hundred','people_fully_vaccinated_per_hundred','new_vaccinations_smoothed_per_million'\n",
    "          ,'new_vaccinations_smoothed','extreme_poverty','cardiovasc_death_rate','diabetes_prevalence', 'weekly_hosp_admissions'\n",
    "          ,'new_tests','total_tests','total_tests_per_thousand','new_tests_per_thousand','new_tests_smoothed'\n",
    "          ,'new_tests_smoothed_per_thousand','tests_per_case','tests_units','positive_rate','life_expectancy','human_development_index']\n",
    "toRetain = ['total_cases','new_cases','total_deaths','new_deaths','total_vaccinations',\n",
    "                'people_vaccinated','people_fully_vaccinated','new_vaccinations','stringency_index',\n",
    "                'population','gdp_per_capita']\n",
    "countryList = ['PHL','BRN','KHM','IDN','SGP','LAO','THA','MYS','MMR','VNM','OWID_WRL']\n",
    "\n",
    "#REMOVAL OF UNNECESSARY COLUMNS\n",
    "covid_df = covid_df.drop(columns=toDrop)\n",
    "\n",
    "#COUNTRY REMOVAL\n",
    "covid_df = covid_df[covid_df['iso_code'].str.contains('PHL|BRN|KHM|IDN|SGP|LAO|THA|MYS|MMR|VNM|OWID_WRL',regex=True)]\n",
    "covid_df.sort_values(by=['iso_code','date'])\n",
    "covid_df['iso_code'].unique()\n",
    "\n",
    "\n",
    "\n",
    "#Ending dataframe called: covid_df"
   ]
  },
  {
   "cell_type": "markdown",
   "id": "84be764f",
   "metadata": {},
   "source": [
    "### 3. Exploratory Data Analysis\n",
    "\n",
    "EDA Questions<br>\n",
    "1. Do case trends increase/decrease on every listed countries by month?\n",
    "2. Is there a correlation between the GDP per capita to hospital and ICU patients of a country?\n",
    "3. Do case numbers correlate negatively with the number of people being vaccinated?"
   ]
  },
  {
   "cell_type": "markdown",
   "id": "22a9f5b9",
   "metadata": {},
   "source": [
    "**Numerical Summaries**"
   ]
  },
  {
   "cell_type": "code",
   "execution_count": 3,
   "id": "94fb6347",
   "metadata": {},
   "outputs": [],
   "source": [
    "#Code for numerical summaries"
   ]
  },
  {
   "cell_type": "markdown",
   "id": "acc17186",
   "metadata": {},
   "source": [
    "**Visualizations**"
   ]
  },
  {
   "cell_type": "code",
   "execution_count": 4,
   "id": "8236790d",
   "metadata": {},
   "outputs": [],
   "source": [
    "#Code for visualizations"
   ]
  },
  {
   "cell_type": "markdown",
   "id": "300b67b0",
   "metadata": {},
   "source": [
    "### 4. Research Question"
   ]
  },
  {
   "cell_type": "markdown",
   "id": "93e34715",
   "metadata": {},
   "source": [
    "1. Is there a significant difference between ASEAN member nations in total and new case numbers?<br><br>\n",
    "    1. Scope in Dataset: Total cases and/or New cases\n",
    "    2. Significance: This is in order to know how the Philippines fare against COVID-19 in comparison to our neighboring countries in the ASEAN as well as in the world."
   ]
  },
  {
   "cell_type": "markdown",
   "id": "be207b34",
   "metadata": {},
   "source": [
    "2. Is the government meeting its half-way goal of vaccinating a significant number of people?<br><br>"
   ]
  },
  {
   "cell_type": "markdown",
   "id": "b80790ac",
   "metadata": {},
   "source": [
    "### 5. Statistical Inference"
   ]
  },
  {
   "cell_type": "markdown",
   "id": "86cd8dca",
   "metadata": {},
   "source": [
    "**Hyptothesis**<br><br>\n",
    "\n",
    "$H_0=$ \n",
    "<br>\n",
    "$H_A=$ \n",
    "<br>"
   ]
  },
  {
   "cell_type": "code",
   "execution_count": 5,
   "id": "f7438fe2",
   "metadata": {},
   "outputs": [],
   "source": [
    "#Code for formulating statistical inference and hypothesis testing"
   ]
  },
  {
   "cell_type": "markdown",
   "id": "9f4bfd26",
   "metadata": {},
   "source": [
    "### 6. Insights and Conclusions\n",
    "\n",
    "{CONENT}"
   ]
  }
 ],
 "metadata": {
  "kernelspec": {
   "display_name": "Python 3",
   "language": "python",
   "name": "python3"
  },
  "language_info": {
   "codemirror_mode": {
    "name": "ipython",
    "version": 3
   },
   "file_extension": ".py",
   "mimetype": "text/x-python",
   "name": "python",
   "nbconvert_exporter": "python",
   "pygments_lexer": "ipython3",
   "version": "3.8.8"
  }
 },
 "nbformat": 4,
 "nbformat_minor": 5
}
