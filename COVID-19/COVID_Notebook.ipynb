{
 "cells": [
  {
   "cell_type": "markdown",
   "id": "9282f61c",
   "metadata": {},
   "source": [
    "# CSMODEL\n",
    "### Project 1 - Group 5\n",
    "Members:\n",
    "- Alon-alon, Jason Miguel E.\n",
    "- Escalona, Jose Miguel A.\n",
    "- Llorca, Marcelino Francis S."
   ]
  },
  {
   "cell_type": "markdown",
   "id": "a3f8371c",
   "metadata": {},
   "source": [
    "### 1. Dataset Representation\n",
    "\n",
    "- About the Dataset<br><br>\n",
    "    The data was provided by Our World in Data (OWID). The file contains different data values that could help paint a better image of a country’s status for COVID-19. The version used in this project will be the July 15, 2021 release of the dataset, however OWID attempts both daily and weekly update of data whenever possible, thus ensuring that the data they provide is the latest possible.\n",
    "    <br><br>\n",
    "- Collection Process and its Implications<br><br>\n",
    "    {CONTENT}\n",
    "    <br><br>\n",
    "- Structure of Dataset of the File<br><br>\n",
    "    {CONTENT}\n",
    "    <br><br>\n",
    "- About the Variables<br><br>\n",
    "    {CONTENT}"
   ]
  },
  {
   "cell_type": "markdown",
   "id": "93951095",
   "metadata": {},
   "source": [
    "### 2. Data Cleaning"
   ]
  },
  {
   "attachments": {},
   "cell_type": "markdown",
   "id": "a5973b11",
   "metadata": {},
   "source": [
    "### 3. Exploratory Data Analysis\n",
    "\n",
    "EDA Questions<br><br>\n",
    "1. Do case trends increase/decrease on every listed countries by month?\n",
    "2. Is there a correlation between the GDP per capita to hospital and ICU patients of a country?\n",
    "3. Do case numbers correlate negatively with the number of people being vaccinated?"
   ]
  },
  {
   "cell_type": "markdown",
   "id": "0a4845d1",
   "metadata": {},
   "source": [
    "**Numerical Summaries**"
   ]
  },
  {
   "cell_type": "code",
   "execution_count": null,
   "id": "4ae59139",
   "metadata": {},
   "outputs": [],
   "source": [
    "#Code for numerical summaries"
   ]
  },
  {
   "cell_type": "markdown",
   "id": "e9c51962",
   "metadata": {},
   "source": [
    "**Visualization**"
   ]
  },
  {
   "cell_type": "code",
   "execution_count": null,
   "id": "17ea31f0",
   "metadata": {},
   "outputs": [],
   "source": [
    "#Code for visualizations"
   ]
  }
 ],
 "metadata": {
  "kernelspec": {
   "display_name": "Python 3",
   "language": "python",
   "name": "python3"
  },
  "language_info": {
   "codemirror_mode": {
    "name": "ipython",
    "version": 3
   },
   "file_extension": ".py",
   "mimetype": "text/x-python",
   "name": "python",
   "nbconvert_exporter": "python",
   "pygments_lexer": "ipython3",
   "version": "3.8.8"
  }
 },
 "nbformat": 4,
 "nbformat_minor": 5
}
