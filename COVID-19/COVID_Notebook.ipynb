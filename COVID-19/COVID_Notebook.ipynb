{
 "cells": [
  {
   "cell_type": "markdown",
   "id": "993b489a",
   "metadata": {},
   "source": [
    "# CSMODEL\n",
    "### Project 1 - Group 5\n",
    "Members:\n",
    "- Alon-alon, Jason Miguel E.\n",
    "- Escalona, Jose Miguel A.\n",
    "- Llorca, Marcelino Francis S."
   ]
  },
  {
   "cell_type": "markdown",
   "id": "c4ff3e62",
   "metadata": {},
   "source": [
    "### 1. Dataset Representation\n",
    "\n",
    "- About the Dataset<br><br>\n",
    "    The data was provided by Our World in Data (OWID). The file contains different data values that could help paint a better image of a country’s status for COVID-19. The version used in this project will be the July 15, 2021 release of the dataset, however OWID attempts both daily and weekly update of data whenever possible, thus ensuring that the data they provide is the latest possible.\n",
    "    <br><br>\n",
    "- Collection Process and its Implications<br><br>\n",
    "    {CONTENT}\n",
    "    <br><br>\n",
    "- Structure of Dataset of the File<br><br>\n",
    "    {CONTENT}\n",
    "    <br><br>\n",
    "- About the Variables<br><br>\n",
    "    {CONTENT}"
   ]
  },
  {
   "cell_type": "code",
   "execution_count": 1,
   "id": "446865bf",
   "metadata": {},
   "outputs": [
    {
     "name": "stdout",
     "output_type": "stream",
     "text": [
      "Raw Dataframe Shape: (102475, 60)\n"
     ]
    }
   ],
   "source": [
    "import numpy as np\n",
    "import pandas as pd\n",
    "import matplotlib.pyplot as plt\n",
    "from scipy.stats import norm\n",
    "from scipy.stats import ttest_ind\n",
    "\n",
    "#Code for data preparation\n",
    "raw_df = pd.read_csv('COVID_7_15.csv')\n",
    "print(\"Raw Dataframe Shape:\", raw_df.shape)"
   ]
  },
  {
   "cell_type": "markdown",
   "id": "233e40d7",
   "metadata": {},
   "source": [
    "### 2. Data Cleaning"
   ]
  },
  {
   "cell_type": "code",
   "execution_count": 2,
   "id": "14285a4a",
   "metadata": {},
   "outputs": [],
   "source": [
    "#Code for data cleaning"
   ]
  },
  {
   "attachments": {},
   "cell_type": "markdown",
   "id": "f2aa5c67",
   "metadata": {},
   "source": [
    "### 3. Exploratory Data Analysis\n",
    "\n",
    "EDA Questions<br><br>\n",
    "1. Do case trends increase/decrease on every listed countries by month?\n",
    "2. Is there a correlation between the GDP per capita to hospital and ICU patients of a country?\n",
    "3. Do case numbers correlate negatively with the number of people being vaccinated?"
   ]
  },
  {
   "cell_type": "markdown",
   "id": "549f08d1",
   "metadata": {},
   "source": [
    "**Numerical Summaries**"
   ]
  },
  {
   "cell_type": "code",
   "execution_count": 3,
   "id": "3c6bc1f0",
   "metadata": {},
   "outputs": [],
   "source": [
    "#Code for numerical summaries"
   ]
  },
  {
   "cell_type": "markdown",
   "id": "22f8ae4e",
   "metadata": {},
   "source": [
    "**Visualization**"
   ]
  },
  {
   "cell_type": "code",
   "execution_count": 4,
   "id": "38118566",
   "metadata": {},
   "outputs": [],
   "source": [
    "#Code for visualizations"
   ]
  },
  {
   "cell_type": "markdown",
   "id": "348cc2a6",
   "metadata": {},
   "source": [
    "### 4. Research Question"
   ]
  },
  {
   "cell_type": "markdown",
   "id": "09cde74d",
   "metadata": {},
   "source": [
    "1. Is there a significant difference between ASEAN member nations in total and new case numbers?<br><br>\n",
    "    1. Scope in Dataset: Total cases and/or New cases\n",
    "    2. Significance: This is in order to know how the Philippines fare against COVID-19 in comparison to our neighboring countries in the ASEAN as well as in the world."
   ]
  },
  {
   "cell_type": "markdown",
   "id": "f72337ec",
   "metadata": {},
   "source": [
    "2. Is the government meeting its half-way goal of vaccinating a significant number of people?<br><br>"
   ]
  },
  {
   "cell_type": "markdown",
   "id": "b4e3366b",
   "metadata": {},
   "source": [
    "### 5. Statistical Inference"
   ]
  },
  {
   "cell_type": "markdown",
   "id": "2e4c61c4",
   "metadata": {},
   "source": [
    "**Hyptothesis**<br><br>\n",
    "\n",
    "$H_0=$ \n",
    "<br>\n",
    "$H_A=$ \n",
    "<br>"
   ]
  },
  {
   "cell_type": "code",
   "execution_count": null,
   "id": "08daca6b",
   "metadata": {},
   "outputs": [],
   "source": [
    "#Code for formulating statistical inference and hypothesis testing"
   ]
  },
  {
   "cell_type": "markdown",
   "id": "261fd919",
   "metadata": {},
   "source": [
    "### 6. Insights and Conclusions"
   ]
  }
 ],
 "metadata": {
  "kernelspec": {
   "display_name": "Python 3",
   "language": "python",
   "name": "python3"
  },
  "language_info": {
   "codemirror_mode": {
    "name": "ipython",
    "version": 3
   },
   "file_extension": ".py",
   "mimetype": "text/x-python",
   "name": "python",
   "nbconvert_exporter": "python",
   "pygments_lexer": "ipython3",
   "version": "3.8.8"
  }
 },
 "nbformat": 4,
 "nbformat_minor": 5
}
