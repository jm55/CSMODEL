{
 "cells": [
  {
   "cell_type": "markdown",
   "id": "9d3f5a21",
   "metadata": {},
   "source": [
    "# CSMODEL\n",
    "### Project 1 - Group 5\n",
    "Members:\n",
    "- Alon-alon, Jason Miguel E.\n",
    "- Escalona, Jose Miguel A.\n",
    "- Llorca, Marcelino Francis S."
   ]
  },
  {
   "cell_type": "markdown",
   "id": "0dc662e4",
   "metadata": {},
   "source": [
    "### 1. Dataset Representation\n",
    "\n",
    "- About the Dataset<br>\n",
    "\n",
    "The data was provided by Our World in Data (OWID). The file contains different data values that could help paint a better image of a country’s status for COVID-19. The version used in this project will be the July 15, 2021 release of the dataset, however OWID attempts both daily and weekly update of data whenever possible, thus ensuring that the data they provide is the latest possible.\n",
    "\n",
    "- Collection Process and its Implications<br>\n",
    "\n",
    "The collection was done by the Our World in Data Group which is a research group that focuses on research and aggregation of data in a single accessible repository for the purposes of getting a better picture or even solving world problems that can benefit all of mankind. For the specific dataset, they made use of all possible available data that is publicly released by governments of all nations in the world. According to OWID, the data was collected from the following sources which include:\n",
    "    \n",
    "    1. COVID-19 Data Repository of Johns Hopkins University\n",
    "    2. National Government Reports\n",
    "    3. Oxford COVID-19 Government Response Tracker, Blavatnik School of Government\n",
    "    4. United Nations Data (for demographics related data)\n",
    "    5. World Bank Data (for demographics related data)\n",
    "    \n",
    "The data implies that the data presented assumes to be the latest data possible, with its validity ultimately depending on each government's transparency and accuracy with the data they are reporting publicly and to John Hopkins University.\n",
    "    <br>\n",
    "- Structure of Dataset of the File<br>\n",
    "\n",
    "    The dataset's structure consists of 102,475 observations with 60 variables available. The structure goes on every country's date when it reported either its first COVID-19 case or first COVID-19 test. The dataset was already distributed publicly on a single file containing all of the relevant information possible. There is however other datasets which contain specific and specialized versions of the current dataset we are using that is also available for use on OWID's Github repository.\n",
    "    \n",
    "    | iso_code | continent | location | date | data1 | ... | dataX |\n",
    "    | --- | --- | --- | --- | --- | --- | --- |\n",
    "    | PHL | Asia | Philippines | 0000-00-01 | data | ... | dataX |\n",
    "    | PHL | Asia | Philippines | 0000-00-02 | data | ... | dataX |\n",
    "    | JPN | Asia | Japan | 0000-00-01 | data | ... | dataX |\n",
    "    | JPN | Asia | Japan | 0000-00-02 | data | ... | dataX |\n",
    "    | SGP | Asia | Singapore | 0000-00-01 | data | ... | dataX |\n",
    "    | SGP | Asia | Singapore | 0000-00-02 | data | ... | dataX |\n",
    "    | SGP | Asia | Singapore | 0000-00-03 | data | ... | dataX |\n",
    "\n",
    "    The list of locations are a mixture of continents and actual countries, as recognized by OWID, which may or may not be legally recognized by the international community.\n",
    "    <br>\n",
    "- About the Variables<br>\n",
    "    \n",
    "    The dataset has 60 variables, most of which relate to COVID-19 related numbers such as cases, deaths, recoveries, vaccinations among others, as well as demographic data such as GDP per capita, HDI, median age, population, population density among others."
   ]
  },
  {
   "cell_type": "code",
   "execution_count": null,
   "id": "476da9e2",
   "metadata": {},
   "outputs": [
    {
     "name": "stdout",
     "output_type": "stream",
     "text": [
      "LOADING LIBRARIES...\n",
      "AUTOMATED MODE: True\n",
      "Raw Dataframe Shape: (102475, 60) \n",
      " =================================\n",
      "<class 'pandas.core.frame.DataFrame'>\n",
      "RangeIndex: 102475 entries, 0 to 102474\n",
      "Data columns (total 60 columns):\n",
      " #   Column                                 Non-Null Count   Dtype  \n",
      "---  ------                                 --------------   -----  \n",
      " 0   iso_code                               102475 non-null  object \n",
      " 1   continent                              97689 non-null   object \n",
      " 2   location                               102475 non-null  object \n",
      " 3   date                                   102475 non-null  object \n",
      " 4   total_cases                            98594 non-null   float64\n",
      " 5   new_cases                              98591 non-null   float64\n",
      " 6   new_cases_smoothed                     97581 non-null   float64\n",
      " 7   total_deaths                           88371 non-null   float64\n",
      " 8   new_deaths                             88527 non-null   float64\n",
      " 9   new_deaths_smoothed                    97581 non-null   float64\n",
      " 10  total_cases_per_million                98070 non-null   float64\n",
      " 11  new_cases_per_million                  98067 non-null   float64\n",
      " 12  new_cases_smoothed_per_million         97062 non-null   float64\n",
      " 13  total_deaths_per_million               87860 non-null   float64\n",
      " 14  new_deaths_per_million                 88016 non-null   float64\n",
      " 15  new_deaths_smoothed_per_million        97062 non-null   float64\n",
      " 16  reproduction_rate                      82782 non-null   float64\n",
      " 17  icu_patients                           10688 non-null   float64\n",
      " 18  icu_patients_per_million               10688 non-null   float64\n",
      " 19  hosp_patients                          12916 non-null   float64\n",
      " 20  hosp_patients_per_million              12916 non-null   float64\n",
      " 21  weekly_icu_admissions                  951 non-null     float64\n",
      " 22  weekly_icu_admissions_per_million      951 non-null     float64\n",
      " 23  weekly_hosp_admissions                 1614 non-null    float64\n",
      " 24  weekly_hosp_admissions_per_million     1614 non-null    float64\n",
      " 25  new_tests                              45788 non-null   float64\n",
      " 26  total_tests                            45457 non-null   float64\n",
      " 27  total_tests_per_thousand               45457 non-null   float64\n",
      " 28  new_tests_per_thousand                 45788 non-null   float64\n",
      " 29  new_tests_smoothed                     53305 non-null   float64\n",
      " 30  new_tests_smoothed_per_thousand        53305 non-null   float64\n",
      " 31  positive_rate                          49803 non-null   float64\n",
      " 32  tests_per_case                         49173 non-null   float64\n",
      " 33  tests_units                            54997 non-null   object \n",
      " 34  total_vaccinations                     18050 non-null   float64\n",
      " 35  people_vaccinated                      17196 non-null   float64\n",
      " 36  people_fully_vaccinated                14334 non-null   float64\n",
      " 37  new_vaccinations                       15041 non-null   float64\n",
      " 38  new_vaccinations_smoothed              31499 non-null   float64\n",
      " 39  total_vaccinations_per_hundred         18050 non-null   float64\n",
      " 40  people_vaccinated_per_hundred          17196 non-null   float64\n",
      " 41  people_fully_vaccinated_per_hundred    14334 non-null   float64\n",
      " 42  new_vaccinations_smoothed_per_million  31499 non-null   float64\n",
      " 43  stringency_index                       85982 non-null   float64\n",
      " 44  population                             101817 non-null  float64\n",
      " 45  population_density                     95179 non-null   float64\n",
      " 46  median_age                             91455 non-null   float64\n",
      " 47  aged_65_older                          90429 non-null   float64\n",
      " 48  aged_70_older                          90950 non-null   float64\n",
      " 49  gdp_per_capita                         91824 non-null   float64\n",
      " 50  extreme_poverty                        61921 non-null   float64\n",
      " 51  cardiovasc_death_rate                  91810 non-null   float64\n",
      " 52  diabetes_prevalence                    94235 non-null   float64\n",
      " 53  female_smokers                         71798 non-null   float64\n",
      " 54  male_smokers                           70751 non-null   float64\n",
      " 55  handwashing_facilities                 46133 non-null   float64\n",
      " 56  hospital_beds_per_thousand             83618 non-null   float64\n",
      " 57  life_expectancy                        97312 non-null   float64\n",
      " 58  human_development_index                91948 non-null   float64\n",
      " 59  excess_mortality                       3624 non-null    float64\n",
      "dtypes: float64(55), object(5)\n",
      "memory usage: 46.9+ MB\n",
      "None\n",
      "Location List: ['Afghanistan' 'Africa' 'Albania' 'Algeria' 'Andorra' 'Angola' 'Anguilla'\n",
      " 'Antigua and Barbuda' 'Argentina' 'Armenia' 'Aruba' 'Asia' 'Australia'\n",
      " 'Austria' 'Azerbaijan' 'Bahamas' 'Bahrain' 'Bangladesh' 'Barbados'\n",
      " 'Belarus' 'Belgium' 'Belize' 'Benin' 'Bermuda' 'Bhutan' 'Bolivia'\n",
      " 'Bonaire Sint Eustatius and Saba' 'Bosnia and Herzegovina' 'Botswana'\n",
      " 'Brazil' 'British Virgin Islands' 'Brunei' 'Bulgaria' 'Burkina Faso'\n",
      " 'Burundi' 'Cambodia' 'Cameroon' 'Canada' 'Cape Verde' 'Cayman Islands'\n",
      " 'Central African Republic' 'Chad' 'Chile' 'China' 'Colombia' 'Comoros'\n",
      " 'Congo' 'Cook Islands' 'Costa Rica' \"Cote d'Ivoire\" 'Croatia' 'Cuba'\n",
      " 'Curacao' 'Cyprus' 'Czechia' 'Democratic Republic of Congo' 'Denmark'\n",
      " 'Djibouti' 'Dominica' 'Dominican Republic' 'Ecuador' 'Egypt'\n",
      " 'El Salvador' 'Equatorial Guinea' 'Eritrea' 'Estonia' 'Eswatini'\n",
      " 'Ethiopia' 'Europe' 'European Union' 'Faeroe Islands' 'Falkland Islands'\n",
      " 'Fiji' 'Finland' 'France' 'French Polynesia' 'Gabon' 'Gambia' 'Georgia'\n",
      " 'Germany' 'Ghana' 'Gibraltar' 'Greece' 'Greenland' 'Grenada' 'Guatemala'\n",
      " 'Guernsey' 'Guinea' 'Guinea-Bissau' 'Guyana' 'Haiti' 'Honduras'\n",
      " 'Hong Kong' 'Hungary' 'Iceland' 'India' 'Indonesia' 'International'\n",
      " 'Iran' 'Iraq' 'Ireland' 'Isle of Man' 'Israel' 'Italy' 'Jamaica' 'Japan'\n",
      " 'Jersey' 'Jordan' 'Kazakhstan' 'Kenya' 'Kiribati' 'Kosovo' 'Kuwait'\n",
      " 'Kyrgyzstan' 'Laos' 'Latvia' 'Lebanon' 'Lesotho' 'Liberia' 'Libya'\n",
      " 'Liechtenstein' 'Lithuania' 'Luxembourg' 'Macao' 'Madagascar' 'Malawi'\n",
      " 'Malaysia' 'Maldives' 'Mali' 'Malta' 'Marshall Islands' 'Mauritania'\n",
      " 'Mauritius' 'Mexico' 'Micronesia (country)' 'Moldova' 'Monaco' 'Mongolia'\n",
      " 'Montenegro' 'Montserrat' 'Morocco' 'Mozambique' 'Myanmar' 'Namibia'\n",
      " 'Nauru' 'Nepal' 'Netherlands' 'New Caledonia' 'New Zealand' 'Nicaragua'\n",
      " 'Niger' 'Nigeria' 'Niue' 'North America' 'North Macedonia'\n",
      " 'Northern Cyprus' 'Norway' 'Oceania' 'Oman' 'Pakistan' 'Palestine'\n",
      " 'Panama' 'Papua New Guinea' 'Paraguay' 'Peru' 'Philippines' 'Pitcairn'\n",
      " 'Poland' 'Portugal' 'Qatar' 'Romania' 'Russia' 'Rwanda' 'Saint Helena'\n",
      " 'Saint Kitts and Nevis' 'Saint Lucia' 'Saint Vincent and the Grenadines'\n",
      " 'Samoa' 'San Marino' 'Sao Tome and Principe' 'Saudi Arabia' 'Senegal'\n",
      " 'Serbia' 'Seychelles' 'Sierra Leone' 'Singapore'\n",
      " 'Sint Maarten (Dutch part)' 'Slovakia' 'Slovenia' 'Solomon Islands'\n",
      " 'Somalia' 'South Africa' 'South America' 'South Korea' 'South Sudan'\n",
      " 'Spain' 'Sri Lanka' 'Sudan' 'Suriname' 'Sweden' 'Switzerland' 'Syria'\n",
      " 'Taiwan' 'Tajikistan' 'Tanzania' 'Thailand' 'Timor' 'Togo' 'Tonga'\n",
      " 'Trinidad and Tobago' 'Tunisia' 'Turkey' 'Turkmenistan'\n",
      " 'Turks and Caicos Islands' 'Tuvalu' 'Uganda' 'Ukraine'\n",
      " 'United Arab Emirates' 'United Kingdom' 'United States' 'Uruguay'\n",
      " 'Uzbekistan' 'Vanuatu' 'Vatican' 'Venezuela' 'Vietnam'\n",
      " 'Wallis and Futuna' 'World' 'Yemen' 'Zambia' 'Zimbabwe']\n"
     ]
    }
   ],
   "source": [
    "print(\"LOADING LIBRARIES...\")\n",
    "import math #MATH\n",
    "import re #REGEX\n",
    "import numpy as np #NUMPY\n",
    "import pandas as pd #PANDAS\n",
    "import matplotlib.pyplot as plt #PLOT MATPLOTLIB\n",
    "import matplotlib.figure as fig #FIGURE MATPLOTLIB\n",
    "from scipy.stats import norm\n",
    "from scipy.stats import ttest_ind\n",
    "from scipy.stats import t #T-TEST AS REPLACEMENT FOR Z-TEST\n",
    "\n",
    "bar = \"=================================\"\n",
    "automated = True #Manual entry or pre-defined entries\n",
    "print(\"AUTOMATED MODE:\",automated)\n",
    "\n",
    "#Code for data preparation\n",
    "#PREPARE FILES AND RAW DATAFRAME\n",
    "raw_df = None\n",
    "if(not automated):\n",
    "    filename = input(\"Enter Filename of CSV file (including .csv): \")\n",
    "    raw_df = pd.read_csv(filename)\n",
    "else:\n",
    "    raw_df = pd.read_csv(\"COVID_7_15.csv\")\n",
    "#Raw file reading: make use of covid_df.readline() to retrieve a str line (as str) from\n",
    "\n",
    "print(\"Raw Dataframe Shape:\", raw_df.shape,\"\\n\",bar)\n",
    "print(raw_df.info())\n",
    "print(\"Location List:\",raw_df[\"location\"].unique())"
   ]
  },
  {
   "cell_type": "markdown",
   "id": "28cbf6b3",
   "metadata": {},
   "source": [
    "### 2. Data Cleaning"
   ]
  },
  {
   "cell_type": "markdown",
   "id": "419378d9",
   "metadata": {},
   "source": [
    "Given that there are a lot of nations and variables to consider, it has been decided to reduce to scope of nations to just the ASEAN nations as well as the World as a baseline. The consideration for ASEAN nations was made because of the following reasons:\n",
    "\n",
    "1. Near proximity\n",
    "2. Economic integration\n",
    "3. Similar level economies and populations\n",
    "\n",
    "This could help us determine the COVID-19 status of the Philippines to its neighbors as well as the World if ever it is applicable.\n",
    "\n",
    "The most of the columns are to be ommitted since it contains pre-treated values, specialized values, or varying values (in terms of the unit of measurement).\n",
    "\n",
    "The columns that were retained:\n",
    "\n",
    "|column|\n",
    "| ---|\n",
    "|total_cases|\n",
    "|new_cases|\n",
    "|total_deaths|\n",
    "|new_deaths|\n",
    "|total_vaccinations|\n",
    "|people_vaccinated|\n",
    "|people_fully_vaccinated|\n",
    "|new_vaccinations|\n",
    "|stringency_index|\n",
    "|population|\n",
    "|gdp_per_capita|\n"
   ]
  },
  {
   "cell_type": "markdown",
   "id": "22e40c4e",
   "metadata": {},
   "source": [
    "The script below crunches the raw data and produces a covid_df containing:\n",
    "1. World COVID-19 Data (from OWID)\n",
    "2. ASEAN COVID-19 Data (Containing 10 Countries, including the Philippines)\n",
    "3. Philippine COVID-19 Data\n",
    "\n",
    "Do note however that any observation on a certain day that does not meet the required number of observations (i.e. countries that reported that day) will be automatically omitted from the resulting group dataframe. This was done in order to prevent outliers in the data and to reduce the erraticness of the output which matters since most of the data is of sum and mean value nature."
   ]
  },
  {
   "cell_type": "code",
   "execution_count": null,
   "id": "89800cd5",
   "metadata": {
    "scrolled": true
   },
   "outputs": [],
   "source": [
    "#CSMODEL: COVID-19 Dataset\n",
    "#Crunches data of selected countries to a grouped one\n",
    "\n",
    "#GLOBAL VARIABLES\n",
    "checkpoint = False\n",
    "print(\"CHECKPOINT:\",checkpoint)\n",
    "NaN = float(\"nan\")\n",
    "group_pop = 0 #Placeholder for the population of group of nations specified.\n",
    "\n",
    "#CUSTOM FUNCTIONS\n",
    "def listDates(df): #Sorts the 'date' column of a given DataFrame and returns it.\n",
    "    return np.sort((df['date'].unique()),kind='mergesort')\n",
    "def fillZeros(size): #Returns a list of zeros from a specified size\n",
    "    return np.zeros(size).tolist()\n",
    "def writeCheckpoint(df, filename): #Writes a given DataFrame to a CSV file\n",
    "    if(checkpoint):\n",
    "        print(\"WRITING CHECKPOINT...\")\n",
    "        df.to_csv(filename+\".csv\",index=False)\n",
    "        print(\"Checkpoint Complete:\",filename)\n",
    "def aggregator(src_df,iso_code,continent,location,count): #Aggregates the given DataFrame to a grouped version\n",
    "    tmp_df = pd.DataFrame(columns=toRetain) \n",
    "    for i in range(dateCount):\n",
    "        sp_date = date_values[i] #Specified date\n",
    "        filtered_df = src_df[src_df['date']==sp_date] #Series of nations with specified date\n",
    "        if(filtered_df.shape[0] == count): #Will run only if all countries listed are there\n",
    "            id = [iso_code,continent,location,sp_date] #Default identifiers for ASEAN\n",
    "            data = fillZeros(len(toRetainData))\n",
    "            for j in range(filtered_df.shape[0]):\n",
    "                #add current data with the retrieved data\n",
    "                retrieve = filtered_df[toRetainData].iloc[j].tolist()\n",
    "                data = list(map(lambda x,y:x+y,retrieve,data))\n",
    "            result = id+data\n",
    "            tmp_df.loc[tmp_df.shape[0]] = result #\"ADDS\" THE RESULTING LIST AT THE END OF THE DATAFRAME\n",
    "    return tmp_df\n",
    "def dateRange(df): #Finds the lowest and highest date recorded.\n",
    "    date_values = np.sort(df['date'].unique(),kind='mergesort')\n",
    "    return [date_values[0], date_values[len(date_values)-1]] #the latest possible data maybe incomplete thus the day prior the latest will be used\n",
    "\n",
    "#PREPARE FILES AND RAW DATAFRAME\n",
    "covid_df = raw_df.copy(deep=True)\n",
    "#Raw file reading: make use of covid_df.readline() to retrieve a str line (as str) from\n",
    "\n",
    "#DATE SORTING AND VALUES\n",
    "date_values = listDates(covid_df)\n",
    "dateCount = date_values.size\n",
    "\n",
    "#COLUMNS TO RETAIN\n",
    "toRetain = ['iso_code','continent','location','date','total_cases','new_cases','total_deaths','new_deaths','total_vaccinations','people_vaccinated','people_fully_vaccinated','new_vaccinations','stringency_index',\n",
    "            'population','gdp_per_capita']\n",
    "toRetainData = toRetain[4:]\n",
    "identifiers = toRetain[0:4]\n",
    "#LIST OF ONLY DATA THAT CAN BE USED IN A COLLECTIVE MANNER (AS USED BY OWID ITSELF)\n",
    "forCollective = ['total_cases','new_cases','new_cases_smoothed','total_deaths','new_deaths','new_deaths_smoothed','total_cases_per_million'\n",
    "                ,'new_cases_per_million','new_cases_smoothed_per_million','total_deaths_per_million','new_deaths_per_million','new_deaths_smoothed_per_million','total_vaccinations'\n",
    "                ,'people_vaccinated','people_fully_vaccinated','new_vaccinations','new_vaccinations_smoothed','total_vaccinations_per_hundred','people_vaccinated_per_hundred'\n",
    "                ,'people_fully_vaccinated_per_hundred','new_vaccinations_smoothed_per_million','population']\n",
    "#LIST OF COUNTRIES TO RETAIN\n",
    "targetCountries = ['PHL','BRN','KHM','IDN','SGP','LAO','THA','MYS','MMR','VNM']\n",
    "\n",
    "#DROP COLUMNS\n",
    "print(\"DROPPING COLUMNS...\")\n",
    "toDrop = list(set(covid_df.columns.tolist()) - set(toRetain))\n",
    "covid_df = covid_df.drop(columns=toDrop)\n",
    "\n",
    "#FILTERING COUNTRIES\n",
    "print(\"FILTERING COUNTRIES...\")\n",
    "ph_df = covid_df[covid_df['iso_code']=='PHL'] #PH ONLY\n",
    "world_df = covid_df[covid_df['iso_code'].str.contains('OWID_WRL')] #OVERALL WORLD DATA BY OWID\n",
    "covid_df = covid_df[covid_df['iso_code'].str.contains(re.compile('|'.join(targetCountries)),regex=True)] #ASEAN NATIONS; YOU CAN CHANGE LIST OF COUNTRIES TO FOCUS\n",
    "\n",
    "#FIND TOTAL POPULATION OF ASEAN\n",
    "pop = covid_df[covid_df['date']==dateRange(covid_df)[1]]\n",
    "if(pop.shape[0] != len(targetCountries)): #REFERENCES TO targetCountries\n",
    "    print(\"COUNTRIES!=\",len(targetCountries),\"AT MAX DATE!\")\n",
    "    exit()\n",
    "group_pop = pop['population'].sum()\n",
    "\n",
    "#DATA CLEANUP: NaN->0\n",
    "print(\"DATA CLEANUP (NaN->0)...\")\n",
    "for i in range(0,len(toRetain),1):\n",
    "    covid_df.loc[covid_df[toRetain[i]].isnull(),toRetain[i]]=0\n",
    "\n",
    "#READING CONENTS OF EACH OBSERVATION AVAILABLE OF ALL COUNTRIES AVAILABLE ON A GIVEN DATE \n",
    "#NOT THE MOST EFFICIENT ALGO AS IT RUNS AT O(n*m)\n",
    "#WILL MAKE USE OF THE CURRENT LIST OF COUNTRIES AVAILABLE AT covid_df.\n",
    "print(\"AGGREGATING ASEAN COUNTRIES...\")\n",
    "group_df = aggregator(covid_df,\"MDL_SEA\",NaN,\"Asia\",len(targetCountries)) #Will hold the resulting aggregation of ASEAN countries\n",
    "\n",
    "#ASEAN Checkpoint\n",
    "writeCheckpoint(group_df,\"asean_checkpoint\")\n",
    "\n",
    "#Combined dataframes\n",
    "print(\"Available iso_codes:\",pd.concat([covid_df,group_df,world_df])['iso_code'].unique())\n",
    "\n",
    "print(\"FILE PROCESSING COMPLETE!\")\n",
    "\n",
    "print(\"DATAFRAMES AVAILABLE FOR USE: covid_df, world_df, group_df, ph_df\")"
   ]
  },
  {
   "cell_type": "markdown",
   "id": "3a2da6fc",
   "metadata": {},
   "source": [
    "**The following dataframes could be used for the proceeding code:**\n",
    "- covid_df = Choosen Countries COVID data (ASEAN in this case)\n",
    "- group_df = Overall ASEAN COVID data\n",
    "- world_df = Overall World COVID data\n",
    "- ph_df = Philippine COVID data"
   ]
  },
  {
   "cell_type": "code",
   "execution_count": null,
   "id": "605392b1",
   "metadata": {},
   "outputs": [],
   "source": [
    "#Sorting DataFrames by Date\n",
    "def minmaxDates(capsule, capsule_str):\n",
    "    for i in range(len(capsule)):\n",
    "        print(capsule_str[i],\":\",capsule[i]['date'].iloc[0],\"→\",capsule[i]['date'].iloc[capsule[i].shape[0]-1])\n",
    "\n",
    "covid_df.sort_values(by='date')\n",
    "group_df.sort_values(by='date')\n",
    "world_df.sort_values(by='date')\n",
    "ph_df.sort_values(by='date')\n",
    "\n",
    "capsule = [covid_df, group_df, world_df, ph_df]\n",
    "capsule_str = ['covid_df','group_df','world_df','ph_df']\n",
    "\n",
    "minmaxDates(capsule,capsule_str)"
   ]
  },
  {
   "cell_type": "markdown",
   "id": "aff18bbb",
   "metadata": {},
   "source": [
    "Based from the output above, the only valid data that is possible to use are those starting April 1 of 2020 up to July 1 of 2021."
   ]
  },
  {
   "cell_type": "code",
   "execution_count": null,
   "id": "375bcb38",
   "metadata": {
    "scrolled": false
   },
   "outputs": [],
   "source": [
    "#DROPPING OBSERVATIONS THAT FALL BELOW THE RECOMMENDED MINIMUM DATE\n",
    "minDate = '2020-04-01'\n",
    "maxDate = '2021-07-01'\n",
    "covid_df = covid_df[(covid_df['date'] >= minDate) & (covid_df['date'] <= maxDate)]\n",
    "group_df = group_df[(group_df['date'] >= minDate) & (group_df['date'] <= maxDate)]\n",
    "world_df = world_df[(world_df['date'] >= minDate) & (world_df['date'] <= maxDate)]\n",
    "ph_df = ph_df[(ph_df['date'] >= minDate) & (ph_df['date'] <= maxDate)]\n",
    "\n",
    "capsule = [covid_df, group_df, world_df, ph_df]\n",
    "minmaxDates(capsule,capsule_str)\n",
    "\n",
    "print(\"\\nDataFrame Shapes\")\n",
    "for i in range(len(capsule)):\n",
    "    print(capsule_str[i],\":\",capsule[i].shape)"
   ]
  },
  {
   "cell_type": "markdown",
   "id": "f1491bdc",
   "metadata": {},
   "source": [
    "The dataframe covid_df contains 10 countries thus covid_df has effectively 457 observations as well which means that all dataframes are already \"synchronized\" on a date range which could helping in elimnating outliers or any data from other countries on a date range that a specific country has not reported on."
   ]
  },
  {
   "cell_type": "markdown",
   "id": "463b37a7",
   "metadata": {},
   "source": [
    "### 3. Exploratory Data Analysis\n",
    "\n",
    "**EDA Questions:**<br>\n",
    "1. Do case trends (new_cases) in the Philippines significantly differ to ASEAN every month period.\n",
    "2. Is there a correlation between the GDP per capita to hospital and ICU patients of a country?\n",
    "3. Do case numbers correlate negatively with the number of people being vaccinated?"
   ]
  },
  {
   "cell_type": "markdown",
   "id": "2271aaad",
   "metadata": {},
   "source": [
    "**1. Do case trends (new_cases) in the Philippines significantly differ to other ASEAN nations on a monthly average?**<br>\n",
    "\n",
    "Compares PH monthly case trend on a monthly average and checks if there is a significant differences against the same monthly average on ASEAN."
   ]
  },
  {
   "cell_type": "markdown",
   "id": "8ea19ad0",
   "metadata": {},
   "source": [
    "The following code block will find the respective CI values of the Philippines' new cases per month and will compare it to the overall new cases reported by all of ASEAN member nations (including the Philippines).\n",
    "\n",
    "The general formula for both population and sample size will be $s=d*n$ ($c$=country, $d$=days with report), thus the population size of ASEAN will be around $\\geqslant300$ (~30 days with 10 countries) and the Philippines expected to be $~30$.\n",
    "\n",
    "The statistical parameters will be set at 95% confidence level at a two-tailed approach."
   ]
  },
  {
   "cell_type": "code",
   "execution_count": null,
   "id": "5867d6e0",
   "metadata": {
    "scrolled": true
   },
   "outputs": [],
   "source": [
    "def findMonthlyNewCases(df,grouping,mode,asDataFrame): #REFACTORED CODE BY JASON FOR REUSABILITY\n",
    "    df.groupby('iso_code')\n",
    "    df['date'].str[:7]\n",
    "    df = df.assign(year_month = df['date'].str[:7])\n",
    "    list = df.groupby(grouping).new_cases.agg(mode)\n",
    "    if asDataFrame:\n",
    "        return pd.DataFrame(list).reset_index()\n",
    "    else:\n",
    "        return list\n",
    "\n",
    "#Add 'year_month' directly to covid_df and ph_df\n",
    "covid_df['year_month'] = covid_df['date'].str[:7]\n",
    "ph_df['year_month'] = ph_df['date'].str[:7]\n",
    "\n",
    "#Add a \"year_month\" column based on \"date\" column\n",
    "df_indiv_monthly_totals = findMonthlyNewCases(covid_df,['iso_code','year_month'],['sum','mean','std'],True)\n",
    "df_ph_monthly_totals = findMonthlyNewCases(ph_df,['iso_code','year_month'],['sum','mean','std'],True)\n",
    "\n",
    "print(\"df_indiv_monthly_totals:\\n\",df_indiv_monthly_totals,\"\\n\")"
   ]
  },
  {
   "cell_type": "code",
   "execution_count": null,
   "id": "87c99583",
   "metadata": {},
   "outputs": [],
   "source": [
    "#VISUALIZATIONS\n",
    "df_indiv_monthly_totals.boxplot(\"mean\", by=[\"iso_code\",], figsize=(8,5),autorange=True) #new_cases mean per iso_code\n",
    "df_indiv_monthly_totals.boxplot(\"mean\", by=[\"year_month\",], figsize=(15,5),autorange=True)#new_cases mean per year_month\n",
    "ph_df.plot.scatter('date','new_vaccinations',figsize=(15,5),ylabel='new_vaccinations',xlabel='date')"
   ]
  },
  {
   "cell_type": "markdown",
   "id": "441e0eaa",
   "metadata": {},
   "source": [
    "The visualization shows ranges of the monthly average of new cases of COVID-19 being reported by every nation in the ASEAN. Based from the visualization, the top 3 countries with the highest monthly average of new cases are the **Indonesia, the Philippines, and Malaysia**. This is despite of the countries increasing vaccination rate as shown in the third graph but it seems that it is not enough given the population of the Philippines of around 109 million people. The boxplot also shows that there are potential outliers in the data shown, however this could be considered more of a spike in cases rather than an outlier but it must be considered as well that **governments may have done changes on their method of recording or may have made mistakes on their reported new case numbers** that may have caused the supposed outliers.\n",
    "\n",
    "From the results, the month of July 2021 will be ommitted given that the lower and upper confidence intervals are NaN, because the only value available there is the 1st of July, as the result of date synchronization that was done in data cleaning. Additionally the resulting NaN is caused by the fact that $n=1$ and $std=\\sqrt{ \\frac{ \\sum x-x^{2} }{n-1} }$ with $n-1$ resulting to $0$."
   ]
  },
  {
   "cell_type": "markdown",
   "id": "c8e28e82",
   "metadata": {},
   "source": [
    "**2. Is there a correlation between the GDP per capita to hospital and ICU patients of a country?**"
   ]
  },
  {
   "cell_type": "markdown",
   "id": "a6ebe820",
   "metadata": {},
   "source": [
    "**3. Do case numbers correlate negatively with the number of people being vaccinated?**"
   ]
  },
  {
   "cell_type": "markdown",
   "id": "a3e016e7",
   "metadata": {},
   "source": [
    "### 4. Research Question"
   ]
  },
  {
   "cell_type": "markdown",
   "id": "33616cd3",
   "metadata": {},
   "source": [
    "**1. Is there a significant difference between the Philippines and ASEAN member nations in the monthly average of COVID-19 new cases?**\n",
    "\n",
    "    1. Scope in Dataset: New cases of all ASEAN nations with the Philippines being the sample.\n",
    "    2. Significance: This is in order to know how the Philippines fare against COVID-19 (whether lower or higher in new case numbers) in comparison to our neighboring countries in the ASEAN as well as in the world such that if there is a significant difference."
   ]
  },
  {
   "cell_type": "markdown",
   "id": "e6780244",
   "metadata": {},
   "source": [
    "**2. Can the government’s capability of conducting vaccinations catch up to the rate of new cases?** <br><br>\n",
    "\n",
    "    1. Each specific 'group' will be of a specific month (i.e. 1st day of the month; First vaccines arrived at February 28, 2021)\n",
    "    2. New Vaccinations vs New Cases; However numbers (totals) will vary from each other"
   ]
  },
  {
   "cell_type": "markdown",
   "id": "2e1bd51f",
   "metadata": {},
   "source": [
    "**3. Is there a significant difference between the people who receive at least one vaccine to those that have not received two doses?**\n",
    "\n",
    "    1. 'total_vaccination' vs people_fully_vaccinated and 'total_vaccination' vs people_vaccinated\n",
    "    2. Each specific 'group' will be of a specific month (i.e. 1st day of the month; First vaccines arrived at February 28, 2021; will be latter part of March where we will see fully vaccinated numbers to come up)"
   ]
  },
  {
   "cell_type": "markdown",
   "id": "9743687a",
   "metadata": {},
   "source": [
    "### 5. Statistical Inference"
   ]
  },
  {
   "cell_type": "markdown",
   "id": "0640434f",
   "metadata": {},
   "source": [
    "**For Research Question 1:**<br>\n",
    "$H_0 = $ There is no difference between the Philippines and the whole of ASEAN member nations on their monthly average of new COVID-19 cases.<br>\n",
    "$H_A = $ There is difference between the Philippines and the whole of ASEAN member nations on their monthly average of new COVID-19 cases."
   ]
  },
  {
   "cell_type": "code",
   "execution_count": null,
   "id": "24b64f90",
   "metadata": {
    "scrolled": true
   },
   "outputs": [],
   "source": [
    "year_month = (covid_df['date'].str[:7]).unique().tolist() #list of months\n",
    "    \n",
    "#TO MEET THE MINIMUM QUANTITY OF 30 SAMPLES FROM A POPULATION\n",
    "#To use: covid_df (population) and ph_df (sample); Purposive sampling\n",
    "#iterative per year_month[i]\n",
    "#find date_df[i] = covid_df[covid_df['date'].str.contains(year_month[i])] => all entries for that month regardless of country (still part of ASEAN); expect ~30*10 entries\n",
    "#find ph_date_df[i] = ph_df[ph_df['date'].str.contains(year_month[i])] => as sample from covid_df; expect ~30+ entries\n",
    "#agg[mean,std] for every year_month of date_df and ph_date_df\n",
    "#@95% confidence; 0.975\n",
    "\n",
    "def margin_error(z,std,n): #(z_val, sample_std, sample_size)\n",
    "    return z*(std/math.sqrt(n))\n",
    "def CI(m, e): #(sample_mean,sample_mgerr)\n",
    "    return [m-e,m+e]\n",
    "\n",
    "#statistical parameters\n",
    "confidence = 0.95\n",
    "z_val = norm.ppf(1-(1-confidence)/2) #two-tail; remove '/2' if one-tailed\n",
    "\n",
    "#placeholders; for visualization purposes\n",
    "lo_ci=[]\n",
    "hi_ci=[]\n",
    "asean_monthly=[]\n",
    "ph_monthly=[]\n",
    "#statistical treatment\n",
    "for i in range(len(year_month)):\n",
    "    #dataframes to use\n",
    "    asean_date_df = (covid_df[covid_df['date'].str.contains(year_month[i])]).reset_index()\n",
    "    ph_date_df = (ph_df[ph_df['date'].str.contains(year_month[i])]).reset_index()\n",
    "    #aggregations\n",
    "    asean_agg_df = asean_date_df.agg({'new_cases':['mean','std']})#population\n",
    "    ph_agg_df = ph_date_df.agg({'new_cases':['mean','std']})#sample\n",
    "    asean_monthly.append(asean_agg_df['new_cases']['mean']) #list of pop means\n",
    "    ph_monthly.append(ph_agg_df['new_cases']['mean'])\n",
    "    n=ph_date_df.shape[0]\n",
    "    err=margin_error(z_val,ph_agg_df['new_cases']['std'],n)#margin of error\n",
    "    ci=CI(ph_agg_df['new_cases']['mean'],err)\n",
    "    lo_ci.append(ci[0])\n",
    "    hi_ci.append(ci[1])\n",
    "\n",
    "treated = {'year_month':year_month,'lo_ci':lo_ci,\n",
    "           'asean_monthly':asean_monthly,'ph_monthly':ph_monthly,\n",
    "           'hi_ci':hi_ci\n",
    "          }\n",
    "\n",
    "ph_asean_ncase_df = pd.DataFrame(treated,columns=['year_month','lo_ci','asean_monthly','hi_ci','ph_monthly'])\n",
    "ph_asean_ncase_df['in_range'] = np.where((ph_asean_ncase_df['lo_ci']<= asean_monthly)&(ph_asean_ncase_df['hi_ci'] >= asean_monthly),'Within','Not Within')\n",
    "ph_asean_ncase_df"
   ]
  },
  {
   "cell_type": "code",
   "execution_count": null,
   "id": "e6fcd60b",
   "metadata": {
    "scrolled": false
   },
   "outputs": [],
   "source": [
    "plt.figure().set_figwidth(15)\n",
    "def prepLineGraph(x,y,c): #Referenced from https://www.geeksforgeeks.org/matplotlib-pyplot-axvline-in-python/\n",
    "    plt.plot(x,y,color=c)\n",
    "\n",
    "print(\"R: PH LoCI\\nG: ASEAN Mean\\nB: PH HiCI\")\n",
    "prepLineGraph(ph_asean_ncase_df['year_month'].tolist(),ph_asean_ncase_df['lo_ci'].tolist(),'r')\n",
    "prepLineGraph(ph_asean_ncase_df['year_month'].tolist(),ph_asean_ncase_df['asean_monthly'].tolist(),'g')\n",
    "prepLineGraph(ph_asean_ncase_df['year_month'].tolist(),ph_asean_ncase_df['hi_ci'].tolist(),'b')"
   ]
  },
  {
   "cell_type": "markdown",
   "id": "b6580011",
   "metadata": {},
   "source": [
    "### 6. Insights and Conclusions\n",
    "\n",
    "{CONENT}"
   ]
  },
  {
   "cell_type": "markdown",
   "id": "c8c43bcf",
   "metadata": {},
   "source": [
    "### Sources:\n",
    "- Hannah Ritchie, Esteban Ortiz-Ospina, Diana Beltekian, Edouard Mathieu, Joe Hasell, Bobbie Macdonald, Charlie Giattino, Cameron Appel, Lucas Rodés-Guirao and Max Roser [Online Resource]. (2020). *Coronavirus Pandemic (COVID-19)*. Retrieved from: 'https://ourworldindata.org/coronavirus' \n",
    "- Our World in Data [Github Repository]. (2020). COVID-19 Dataset by Our World in Data. Retrieved from: https://github.com/owid/covid-19-data.git\n",
    "- Mapa, D. S. (2020). Highlights of the Population Density of the Philippines 2020 Census of Population and Housing (2020 CPH). Retrieved from: https://psa.gov.ph/population-and-housing/node/164857\n",
    "\n",
    "\n",
    "\n",
    "====Baka kailanganin lang====<br>\n",
    "- Emergency Use Authorization. Food and Drug Administration - Philippines. (2021, July 11). https://www.fda.gov.ph/list-of-fda-issued-emergency-use-authorization/. "
   ]
  },
  {
   "cell_type": "code",
   "execution_count": null,
   "id": "6c67b90e",
   "metadata": {},
   "outputs": [],
   "source": []
  }
 ],
 "metadata": {
  "kernelspec": {
   "display_name": "Python 3",
   "language": "python",
   "name": "python3"
  },
  "language_info": {
   "codemirror_mode": {
    "name": "ipython",
    "version": 3
   },
   "file_extension": ".py",
   "mimetype": "text/x-python",
   "name": "python",
   "nbconvert_exporter": "python",
   "pygments_lexer": "ipython3",
   "version": "3.8.8"
  }
 },
 "nbformat": 4,
 "nbformat_minor": 5
}
