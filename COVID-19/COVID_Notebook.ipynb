{
 "cells": [
  {
   "cell_type": "markdown",
   "id": "9d3f5a21",
   "metadata": {},
   "source": [
    "# CSMODEL\n",
    "### Project 1 - Group 5\n",
    "Members:\n",
    "- Alon-alon, Jason Miguel E.\n",
    "- Escalona, Jose Miguel A.\n",
    "- Llorca, Marcelino Francis S."
   ]
  },
  {
   "cell_type": "markdown",
   "id": "0dc662e4",
   "metadata": {},
   "source": [
    "### 1. Dataset Representation\n",
    "\n",
    "- About the Dataset<br><br>\n",
    "    The data was provided by Our World in Data (OWID). The file contains different data values that could help paint a better image of a country’s status for COVID-19. The version used in this project will be the July 15, 2021 release of the dataset, however OWID attempts both daily and weekly update of data whenever possible, thus ensuring that the data they provide is the latest possible.\n",
    "    <br><br>\n",
    "- Collection Process and its Implications<br><br>\n",
    "    {CONTENT}\n",
    "    <br><br>\n",
    "- Structure of Dataset of the File<br><br>\n",
    "    {CONTENT}\n",
    "    <br><br>\n",
    "- About the Variables<br><br>\n",
    "    {CONTENT}"
   ]
  },
  {
   "cell_type": "code",
   "execution_count": 1,
   "id": "476da9e2",
   "metadata": {},
   "outputs": [
    {
     "name": "stdout",
     "output_type": "stream",
     "text": [
      "Raw Dataframe Shape: (102475, 60)\n"
     ]
    }
   ],
   "source": [
    "import numpy as np\n",
    "import pandas as pd\n",
    "import matplotlib.pyplot as plt\n",
    "from scipy.stats import norm\n",
    "from scipy.stats import ttest_ind\n",
    "\n",
    "#Code for data preparation\n",
    "raw_df = pd.read_csv('COVID_7_15.csv')\n",
    "print(\"Raw Dataframe Shape:\", raw_df.shape)"
   ]
  },
  {
   "cell_type": "markdown",
   "id": "28cbf6b3",
   "metadata": {},
   "source": [
    "### 2. Data Cleaning"
   ]
  },
  {
   "cell_type": "code",
   "execution_count": 2,
   "id": "b6174dc5",
   "metadata": {},
   "outputs": [],
   "source": [
    "#Code for data cleaning"
   ]
  },
  {
   "attachments": {},
   "cell_type": "markdown",
   "id": "463b37a7",
   "metadata": {},
   "source": [
    "### 3. Exploratory Data Analysis\n",
    "\n",
    "EDA Questions<br><br>\n",
    "1. Do case trends increase/decrease on every listed countries by month?\n",
    "2. Is there a correlation between the GDP per capita to hospital and ICU patients of a country?\n",
    "3. Do case numbers correlate negatively with the number of people being vaccinated?"
   ]
  },
  {
   "cell_type": "markdown",
   "id": "a1da4f10",
   "metadata": {},
   "source": [
    "**Numerical Summaries**"
   ]
  },
  {
   "cell_type": "code",
   "execution_count": 3,
   "id": "ac7e312d",
   "metadata": {},
   "outputs": [],
   "source": [
    "#Code for numerical summaries"
   ]
  },
  {
   "cell_type": "markdown",
   "id": "6fdf5a91",
   "metadata": {},
   "source": [
    "**Visualization**"
   ]
  },
  {
   "cell_type": "code",
   "execution_count": 4,
   "id": "032c654a",
   "metadata": {},
   "outputs": [],
   "source": [
    "#Code for visualizations"
   ]
  },
  {
   "cell_type": "markdown",
   "id": "a3e016e7",
   "metadata": {},
   "source": [
    "### 4. Research Question"
   ]
  },
  {
   "cell_type": "markdown",
   "id": "33616cd3",
   "metadata": {},
   "source": [
    "1. Is there a significant difference between ASEAN member nations in total and new case numbers?<br><br>\n",
    "    1. Scope in Dataset: Total cases and/or New cases\n",
    "    2. Significance: This is in order to know how the Philippines fare against COVID-19 in comparison to our neighboring countries in the ASEAN as well as in the world."
   ]
  },
  {
   "cell_type": "markdown",
   "id": "e6780244",
   "metadata": {},
   "source": [
    "2. Is the government meeting its half-way goal of vaccinating a significant number of people?<br><br>"
   ]
  },
  {
   "cell_type": "markdown",
   "id": "9743687a",
   "metadata": {},
   "source": [
    "### 5. Statistical Inference"
   ]
  },
  {
   "cell_type": "markdown",
   "id": "0640434f",
   "metadata": {},
   "source": [
    "**Hyptothesis**<br><br>\n",
    "\n",
    "$H_0=$ \n",
    "<br>\n",
    "$H_A=$ \n",
    "<br>"
   ]
  },
  {
   "cell_type": "code",
   "execution_count": 5,
   "id": "707ac0db",
   "metadata": {},
   "outputs": [],
   "source": [
    "#Code for formulating statistical inference and hypothesis testing"
   ]
  },
  {
   "cell_type": "markdown",
   "id": "b6580011",
   "metadata": {},
   "source": [
    "### 6. Insights and Conclusions"
   ]
  },
  {
   "cell_type": "code",
   "execution_count": null,
   "id": "c54ccc37",
   "metadata": {},
   "outputs": [],
   "source": []
  },
  {
   "cell_type": "markdown",
   "id": "c8c43bcf",
   "metadata": {},
   "source": [
    "### Sources:\n",
    "- Hannah Ritchie, Esteban Ortiz-Ospina, Diana Beltekian, Edouard Mathieu, Joe Hasell, Bobbie Macdonald, Charlie Giattino, Cameron Appel, Lucas Rodés-Guirao and Max Roser [Online Resource]. (2020). *Coronavirus Pandemic (COVID-19)*. Retrieved from: 'https://ourworldindata.org/coronavirus' \n",
    "- Our World in Data [Github Repository]. (2020). COVID-19 Dataset by Our World in Data. Retrieved from: https://github.com/owid/covid-19-data.git\n",
    "\n",
    "\n",
    "\n",
    "====Baka kailanganin lang====<br>\n",
    "- Emergency Use Authorization. Food and Drug Administration - Philippines. (2021, July 11). https://www.fda.gov.ph/list-of-fda-issued-emergency-use-authorization/. "
   ]
  }
 ],
 "metadata": {
  "kernelspec": {
   "display_name": "Python 3",
   "language": "python",
   "name": "python3"
  },
  "language_info": {
   "codemirror_mode": {
    "name": "ipython",
    "version": 3
   },
   "file_extension": ".py",
   "mimetype": "text/x-python",
   "name": "python",
   "nbconvert_exporter": "python",
   "pygments_lexer": "ipython3",
   "version": "3.8.8"
  }
 },
 "nbformat": 4,
 "nbformat_minor": 5
}
