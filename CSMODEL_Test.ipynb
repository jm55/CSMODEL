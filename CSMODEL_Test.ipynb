{
 "cells": [
  {
   "cell_type": "markdown",
   "metadata": {},
   "source": [
    "# CSMODEL_Test"
   ]
  },
  {
   "cell_type": "markdown",
   "metadata": {},
   "source": [
    "### Data: Philippine Family Income and Expenditures\n",
    "Data Size: 41544 rows x 60 columns\n",
    "\n",
    "The dataset was sourced by Francis Paul Flores which was provided by the Philippine Statistics Office PSA in 2017. Accroding to Flores, the PSA conducts Family Income and Expenditure Surveys on the nation every three years. This aims to provide data regarding patterns on how family incomes affect expenditure and consumption of goods/services by families in the country.\n",
    "\n",
    "**Source:** https://www.kaggle.com/grosvenpaul/family-income-and-expenditure"
   ]
  },
  {
   "cell_type": "code",
   "execution_count": 1,
   "metadata": {
    "id": "Vl5UCCLIj48w"
   },
   "outputs": [],
   "source": [
    "#Import Libraries\n",
    "import pandas as pd\n",
    "import numpy as np"
   ]
  },
  {
   "cell_type": "code",
   "execution_count": 2,
   "metadata": {
    "id": "JOa4swpIlMvu"
   },
   "outputs": [],
   "source": [
    "#Import Data\n",
    "ph_df = pd.read_csv(\"philippine_family_income_expenditure.csv\")"
   ]
  },
  {
   "cell_type": "code",
   "execution_count": 3,
   "metadata": {
    "colab": {
     "base_uri": "https://localhost:8080/"
    },
    "id": "J9Oyw9w0l3Ql",
    "outputId": "b6506fcf-977f-4bdb-9168-e34300c40e60"
   },
   "outputs": [
    {
     "data": {
      "text/plain": [
       "<bound method DataFrame.info of        Total Household Income              Region  Total Food Expenditure  \\\n",
       "0                      480332                 CAR                  117848   \n",
       "1                      198235                 CAR                   67766   \n",
       "2                       82785                 CAR                   61609   \n",
       "3                      107589                 CAR                   78189   \n",
       "4                      189322                 CAR                   94625   \n",
       "...                       ...                 ...                     ...   \n",
       "41539                  119773  XII - SOCCSKSARGEN                   44875   \n",
       "41540                  137320  XII - SOCCSKSARGEN                   31157   \n",
       "41541                  133171  XII - SOCCSKSARGEN                   45882   \n",
       "41542                  129500  XII - SOCCSKSARGEN                   81416   \n",
       "41543                  128598  XII - SOCCSKSARGEN                   78195   \n",
       "\n",
       "            Main Source of Income  Agricultural Household indicator  \\\n",
       "0                   Wage/Salaries                                 0   \n",
       "1                   Wage/Salaries                                 0   \n",
       "2                   Wage/Salaries                                 1   \n",
       "3                   Wage/Salaries                                 0   \n",
       "4                   Wage/Salaries                                 0   \n",
       "...                           ...                               ...   \n",
       "41539  Enterpreneurial Activities                                 1   \n",
       "41540  Enterpreneurial Activities                                 1   \n",
       "41541  Enterpreneurial Activities                                 2   \n",
       "41542  Enterpreneurial Activities                                 1   \n",
       "41543  Enterpreneurial Activities                                 1   \n",
       "\n",
       "       Bread and Cereals Expenditure  Total Rice Expenditure  \\\n",
       "0                              42140                   38300   \n",
       "1                              17329                   13008   \n",
       "2                              34182                   32001   \n",
       "3                              34030                   28659   \n",
       "4                              34820                   30167   \n",
       "...                              ...                     ...   \n",
       "41539                          23675                   21542   \n",
       "41540                           2691                    1273   \n",
       "41541                          28646                   27339   \n",
       "41542                          29996                   26655   \n",
       "41543                          43485                   41205   \n",
       "\n",
       "       Meat Expenditure  Total Fish and  marine products Expenditure  \\\n",
       "0                 24676                                        16806   \n",
       "1                 17434                                        11073   \n",
       "2                  7783                                         2590   \n",
       "3                 10914                                        10812   \n",
       "4                 18391                                        11309   \n",
       "...                 ...                                          ...   \n",
       "41539              1476                                         6120   \n",
       "41540              1886                                         4386   \n",
       "41541               480                                         4796   \n",
       "41542              2359                                        17730   \n",
       "41543              1985                                         7735   \n",
       "\n",
       "       Fruit Expenditure  ...  Number of Refrigerator/Freezer  \\\n",
       "0                   3325  ...                               1   \n",
       "1                   2035  ...                               0   \n",
       "2                   1730  ...                               0   \n",
       "3                    690  ...                               0   \n",
       "4                   1395  ...                               1   \n",
       "...                  ...  ...                             ...   \n",
       "41539               1632  ...                               0   \n",
       "41540               1840  ...                               0   \n",
       "41541               1232  ...                               0   \n",
       "41542               2923  ...                               0   \n",
       "41543               2062  ...                               0   \n",
       "\n",
       "       Number of Washing Machine  Number of Airconditioner  \\\n",
       "0                              1                         0   \n",
       "1                              1                         0   \n",
       "2                              0                         0   \n",
       "3                              0                         0   \n",
       "4                              0                         0   \n",
       "...                          ...                       ...   \n",
       "41539                          0                         0   \n",
       "41540                          0                         0   \n",
       "41541                          0                         0   \n",
       "41542                          0                         0   \n",
       "41543                          0                         0   \n",
       "\n",
       "       Number of Car, Jeep, Van  Number of Landline/wireless telephones  \\\n",
       "0                             0                                       0   \n",
       "1                             0                                       0   \n",
       "2                             0                                       0   \n",
       "3                             0                                       0   \n",
       "4                             0                                       0   \n",
       "...                         ...                                     ...   \n",
       "41539                         0                                       0   \n",
       "41540                         0                                       0   \n",
       "41541                         0                                       0   \n",
       "41542                         0                                       0   \n",
       "41543                         0                                       0   \n",
       "\n",
       "       Number of Cellular phone  Number of Personal Computer  \\\n",
       "0                             2                            1   \n",
       "1                             3                            1   \n",
       "2                             0                            0   \n",
       "3                             1                            0   \n",
       "4                             3                            0   \n",
       "...                         ...                          ...   \n",
       "41539                         1                            0   \n",
       "41540                         3                            0   \n",
       "41541                         1                            0   \n",
       "41542                         2                            0   \n",
       "41543                         1                            0   \n",
       "\n",
       "       Number of Stove with Oven/Gas Range  Number of Motorized Banca  \\\n",
       "0                                        0                          0   \n",
       "1                                        0                          0   \n",
       "2                                        0                          0   \n",
       "3                                        0                          0   \n",
       "4                                        0                          0   \n",
       "...                                    ...                        ...   \n",
       "41539                                    0                          0   \n",
       "41540                                    0                          0   \n",
       "41541                                    0                          0   \n",
       "41542                                    0                          0   \n",
       "41543                                    0                          0   \n",
       "\n",
       "       Number of Motorcycle/Tricycle  \n",
       "0                                  1  \n",
       "1                                  2  \n",
       "2                                  0  \n",
       "3                                  0  \n",
       "4                                  1  \n",
       "...                              ...  \n",
       "41539                              0  \n",
       "41540                              0  \n",
       "41541                              0  \n",
       "41542                              0  \n",
       "41543                              0  \n",
       "\n",
       "[41544 rows x 60 columns]>"
      ]
     },
     "execution_count": 3,
     "metadata": {},
     "output_type": "execute_result"
    }
   ],
   "source": [
    "#Check contents of ph_df\n",
    "ph_df.info"
   ]
  },
  {
   "cell_type": "code",
   "execution_count": 4,
   "metadata": {
    "colab": {
     "base_uri": "https://localhost:8080/"
    },
    "id": "6c6soCbXmYgv",
    "outputId": "c2e47eab-2a7a-46c6-f7f2-c47d0b9c7682"
   },
   "outputs": [
    {
     "data": {
      "text/plain": [
       "Total Household Income                           False\n",
       "Region                                           False\n",
       "Total Food Expenditure                           False\n",
       "Main Source of Income                            False\n",
       "Agricultural Household indicator                 False\n",
       "Bread and Cereals Expenditure                    False\n",
       "Total Rice Expenditure                           False\n",
       "Meat Expenditure                                 False\n",
       "Total Fish and  marine products Expenditure      False\n",
       "Fruit Expenditure                                False\n",
       "Vegetables Expenditure                           False\n",
       "Restaurant and hotels Expenditure                False\n",
       "Alcoholic Beverages Expenditure                  False\n",
       "Tobacco Expenditure                              False\n",
       "Clothing, Footwear and Other Wear Expenditure    False\n",
       "Housing and water Expenditure                    False\n",
       "Imputed House Rental Value                       False\n",
       "Medical Care Expenditure                         False\n",
       "Transportation Expenditure                       False\n",
       "Communication Expenditure                        False\n",
       "Education Expenditure                            False\n",
       "Miscellaneous Goods and Services Expenditure     False\n",
       "Special Occasions Expenditure                    False\n",
       "Crop Farming and Gardening expenses              False\n",
       "Total Income from Entrepreneurial Acitivites     False\n",
       "Household Head Sex                               False\n",
       "Household Head Age                               False\n",
       "Household Head Marital Status                    False\n",
       "Household Head Highest Grade Completed           False\n",
       "Household Head Job or Business Indicator         False\n",
       "Household Head Occupation                         True\n",
       "Household Head Class of Worker                    True\n",
       "Type of Household                                False\n",
       "Total Number of Family members                   False\n",
       "Members with age less than 5 year old            False\n",
       "Members with age 5 - 17 years old                False\n",
       "Total number of family members employed          False\n",
       "Type of Building/House                           False\n",
       "Type of Roof                                     False\n",
       "Type of Walls                                    False\n",
       "House Floor Area                                 False\n",
       "House Age                                        False\n",
       "Number of bedrooms                               False\n",
       "Tenure Status                                    False\n",
       "Toilet Facilities                                False\n",
       "Electricity                                      False\n",
       "Main Source of Water Supply                      False\n",
       "Number of Television                             False\n",
       "Number of CD/VCD/DVD                             False\n",
       "Number of Component/Stereo set                   False\n",
       "Number of Refrigerator/Freezer                   False\n",
       "Number of Washing Machine                        False\n",
       "Number of Airconditioner                         False\n",
       "Number of Car, Jeep, Van                         False\n",
       "Number of Landline/wireless telephones           False\n",
       "Number of Cellular phone                         False\n",
       "Number of Personal Computer                      False\n",
       "Number of Stove with Oven/Gas Range              False\n",
       "Number of Motorized Banca                        False\n",
       "Number of Motorcycle/Tricycle                    False\n",
       "dtype: bool"
      ]
     },
     "execution_count": 4,
     "metadata": {},
     "output_type": "execute_result"
    }
   ],
   "source": [
    "#Check if there exists null data points in the dataframe\n",
    "ph_df.isnull().any()"
   ]
  }
 ],
 "metadata": {
  "colab": {
   "collapsed_sections": [],
   "name": "CSMODEL Test",
   "provenance": []
  },
  "kernelspec": {
   "display_name": "Python 3",
   "language": "python",
   "name": "python3"
  },
  "language_info": {
   "codemirror_mode": {
    "name": "ipython",
    "version": 3
   },
   "file_extension": ".py",
   "mimetype": "text/x-python",
   "name": "python",
   "nbconvert_exporter": "python",
   "pygments_lexer": "ipython3",
   "version": "3.8.8"
  }
 },
 "nbformat": 4,
 "nbformat_minor": 1
}
