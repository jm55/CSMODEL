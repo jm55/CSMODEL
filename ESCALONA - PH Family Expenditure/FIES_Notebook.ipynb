{
 "cells": [
  {
   "cell_type": "markdown",
   "metadata": {},
   "source": [
    "# FIES_Notebook"
   ]
  },
  {
   "cell_type": "markdown",
   "metadata": {},
   "source": [
    "### Data: Philippine Family Income and Expenditures\n",
    "Data Size: 41544 rows x 60 columns<br>\n",
    "\n",
    "The dataset was sourced by Francis Paul Flores which was provided by the Philippine Statistics Office PSA in 2017. Accroding to Flores, the PSA conducts Family Income and Expenditure Surveys on the nation every three years. This aims to provide data regarding patterns on how family incomes affect expenditure and consumption of goods/services by families in the country.\n",
    "<br><br>\n",
    "**Sources:** <br> \n",
    "Dataset - https://www.kaggle.com/grosvenpaul/family-income-and-expenditure <br>\n",
    "Combining Columns - https://www.statology.org/pandas-combine-two-columns/ <br>\n",
    "Other functions - https://pandas.pydata.org/pandas-docs/stable/reference/index.html <br>\n"
   ]
  },
  {
   "cell_type": "code",
   "execution_count": 1,
   "metadata": {
    "id": "Vl5UCCLIj48w"
   },
   "outputs": [],
   "source": [
    "#Import Libraries\n",
    "import pandas as pd\n",
    "import numpy as np"
   ]
  },
  {
   "cell_type": "code",
   "execution_count": 2,
   "metadata": {
    "id": "JOa4swpIlMvu"
   },
   "outputs": [
    {
     "data": {
      "text/plain": [
       "(41544, 60)"
      ]
     },
     "execution_count": 2,
     "metadata": {},
     "output_type": "execute_result"
    }
   ],
   "source": [
    "#Import Data\n",
    "ph_df = pd.read_csv(\"philippine_family_income_expenditure.csv\")\n",
    "ph_df.shape"
   ]
  },
  {
   "cell_type": "code",
   "execution_count": 3,
   "metadata": {
    "colab": {
     "base_uri": "https://localhost:8080/"
    },
    "id": "J9Oyw9w0l3Ql",
    "outputId": "b6506fcf-977f-4bdb-9168-e34300c40e60"
   },
   "outputs": [],
   "source": [
    "#Please uncomment the line of code to be used.\n",
    "\n",
    "#Check contents of ph_df\n",
    "#ph_df.info\n",
    "\n",
    "#Check if there exists null data points in the dataframe\n",
    "#ph_df.isnull().any()"
   ]
  },
  {
   "cell_type": "markdown",
   "metadata": {},
   "source": [
    "## 1\n",
    "### Checking for null values\n",
    "\n",
    "Checking whether there are columns that exists on any column at a insignificant quantity."
   ]
  },
  {
   "cell_type": "code",
   "execution_count": 4,
   "metadata": {
    "scrolled": true
   },
   "outputs": [
    {
     "data": {
      "text/plain": [
       "Household Head Occupation         7536\n",
       "Household Head Class of Worker    7536\n",
       "dtype: int64"
      ]
     },
     "execution_count": 4,
     "metadata": {},
     "output_type": "execute_result"
    }
   ],
   "source": [
    "#Count number of null values\n",
    "ph_df_nan=ph_df.columns[ph_df.isnull().any()].tolist()\n",
    "ph_df[ph_df_nan].isnull().sum()"
   ]
  },
  {
   "cell_type": "code",
   "execution_count": 5,
   "metadata": {
    "scrolled": true
   },
   "outputs": [
    {
     "ename": "SyntaxError",
     "evalue": "invalid syntax (<ipython-input-5-a34fafdb69f8>, line 5)",
     "output_type": "error",
     "traceback": [
      "\u001b[1;36m  File \u001b[1;32m\"<ipython-input-5-a34fafdb69f8>\"\u001b[1;36m, line \u001b[1;32m5\u001b[0m\n\u001b[1;33m    print(\"Household Head Class of Worker:\",type(ph_df['Household Head Class of Worker'].loc[0]))\u001b[0m\n\u001b[1;37m    ^\u001b[0m\n\u001b[1;31mSyntaxError\u001b[0m\u001b[1;31m:\u001b[0m invalid syntax\n"
     ]
    }
   ],
   "source": [
    "#Checking datatype of 'Household Head Occupation'\n",
    "print(\"Household Head Occupation Datatype:\",type(ph_df['Household Head Occupation'].loc[0])\n",
    "\n",
    "#Checking datatype of 'Household Head Class of Worker'\n",
    "print(\"Household Head Class of Worker:\",type(ph_df['Household Head Class of Worker'].loc[0]))"
   ]
  },
  {
   "cell_type": "markdown",
   "metadata": {},
   "source": [
    "Due to a big number of null values, the values for 'Household Head Occupation' and 'Household Head Class of Worker' won't be ommited, it will rather be replaced with a \"None\" value."
   ]
  },
  {
   "cell_type": "code",
   "execution_count": null,
   "metadata": {},
   "outputs": [],
   "source": [
    "#Setting mentioned columns with null values to \"None\"\n",
    "ph_df.loc[ph_df['Household Head Occupation'].isnull(),'Household Head Occupation'] = \"None\"\n",
    "ph_df.loc[ph_df['Household Head Class of Worker'].isnull(),'Household Head Class of Worker'] = \"None\""
   ]
  },
  {
   "cell_type": "code",
   "execution_count": null,
   "metadata": {},
   "outputs": [],
   "source": [
    "#Recheck if there exists null value on any column\n",
    "#ph_df.isnull().any()"
   ]
  },
  {
   "cell_type": "markdown",
   "metadata": {},
   "source": [
    "## 2\n",
    "### Checking for columns of similar nature\n",
    "\n",
    "Notice that there are columns that indicate commonality: <br>\n",
    "**'Number of Car, Jeep, Van', 'Number of Motorized Banca', and 'Number of Motorcycle/Tricycle'** - All of which belong to Personal Mobility or Personal Vehicles. <br>\n",
    "**'Alcoholic Beverages Expenditure' and 'Tobacco Expenditure'** - All of which belong to Unhealthy Lifestyle Products.\n",
    "<br><br>\n",
    "The aforementioned columns can then be replaced with the new columns\n"
   ]
  },
  {
   "cell_type": "code",
   "execution_count": null,
   "metadata": {
    "scrolled": true
   },
   "outputs": [],
   "source": [
    "#Creating New Columns\n",
    "ph_df['Number of Vehicles'] = ph_df['Number of Car, Jeep, Van'] + ph_df['Number of Motorized Banca'] + ph_df['Number of Motorcycle/Tricycle']\n",
    "ph_df['Sin Goods Expenditure'] = ph_df['Alcoholic Beverages Expenditure'] + ph_df['Tobacco Expenditure']\n",
    "\n",
    "#Removing Columns; Don't forget to copy it back to ph_df\n",
    "ph_df = ph_df.drop(columns=['Number of Car, Jeep, Van','Number of Motorized Banca','Number of Motorcycle/Tricycle','Alcoholic Beverages Expenditure','Tobacco Expenditure']).copy()\n",
    "\n",
    "#Validate that changes did occur\n",
    "ph_df.info()"
   ]
  },
  {
   "cell_type": "markdown",
   "metadata": {},
   "source": [
    "Since changes have been made, it should be much simpler to clean any data found within the columns"
   ]
  },
  {
   "cell_type": "markdown",
   "metadata": {},
   "source": [
    "## 3\n",
    "### Determining Object Values\n",
    "\n",
    "Most of the columns presented are of type int64, implying that most are of numeric values which goes in-line with the fact that these are mostly income and expenditure data, however there are some data that are str in datatype.<br>\n",
    "\n",
    "### Columns with str datatype:\n",
    "1. Region<br>\n",
    "2. Main Source of Income<br>\n",
    "3. Household Head Sex<br>\n",
    "4. Household Head Marital Status<br>\n",
    "5. Household Head Highest Grade Completed<br>\n",
    "6. Household Head Job or Business Indicator<br>\n",
    "7. Household Head Occupation<br>\n",
    "8. Household Head Class of Worker<br>\n",
    "9. Type of Household<br>\n",
    "10. Type of Building/House<br>\n",
    "11. Type of Roof<br>\n",
    "12. Type of Walls<br>\n",
    "13. Tenure Status<br>\n",
    "14. Toilet Facilities<br>\n",
    "15. Main Source of Water Supply<br>"
   ]
  },
  {
   "cell_type": "code",
   "execution_count": null,
   "metadata": {
    "scrolled": false
   },
   "outputs": [],
   "source": [
    "column_list = ph_df.columns.values.tolist()\n",
    "print(\"check unique values\")\n",
    "for i in range(len(column_list)):\n",
    "    print(column_list[i],\":\",ph_df[column_list[i]].unique())\n",
    "    print(\"\\n\")"
   ]
  },
  {
   "cell_type": "markdown",
   "metadata": {},
   "source": [
    "## 4\n",
    "### Checking Region Population"
   ]
  },
  {
   "cell_type": "code",
   "execution_count": null,
   "metadata": {},
   "outputs": [],
   "source": [
    "over = 1 / (ph_df.shape)[0] #retrieve rows on df\n",
    "\n",
    "ph_pop_percentage = 100 * ( ph_df['Region'].value_counts() * over )\n",
    "\n",
    "print(\"Survey Population Composition by Region\\n(In %)\\n\",\"=====================================\")\n",
    "print(ph_pop_percentage)\n",
    "print(\"Total:\",ph_pop_percentage.sum(),\"%\")"
   ]
  }
 ],
 "metadata": {
  "colab": {
   "collapsed_sections": [],
   "name": "CSMODEL Test",
   "provenance": []
  },
  "kernelspec": {
   "display_name": "Python 3",
   "language": "python",
   "name": "python3"
  },
  "language_info": {
   "codemirror_mode": {
    "name": "ipython",
    "version": 3
   },
   "file_extension": ".py",
   "mimetype": "text/x-python",
   "name": "python",
   "nbconvert_exporter": "python",
   "pygments_lexer": "ipython3",
   "version": "3.8.8"
  }
 },
 "nbformat": 4,
 "nbformat_minor": 1
}
