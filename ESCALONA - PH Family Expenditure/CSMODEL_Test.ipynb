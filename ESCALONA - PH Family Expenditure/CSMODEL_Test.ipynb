{
 "cells": [
  {
   "cell_type": "markdown",
   "metadata": {},
   "source": [
    "# CSMODEL_Test"
   ]
  },
  {
   "cell_type": "markdown",
   "metadata": {},
   "source": [
    "### Data: Philippine Family Income and Expenditures\n",
    "Data Size: 41544 rows x 60 columns<br>\n",
    "\n",
    "The dataset was sourced by Francis Paul Flores which was provided by the Philippine Statistics Office PSA in 2017. Accroding to Flores, the PSA conducts Family Income and Expenditure Surveys on the nation every three years. This aims to provide data regarding patterns on how family incomes affect expenditure and consumption of goods/services by families in the country.\n",
    "<br><br>\n",
    "**Sources:** <br> \n",
    "Dataset - https://www.kaggle.com/grosvenpaul/family-income-and-expenditure <br>\n",
    "Combining Columns - https://www.statology.org/pandas-combine-two-columns/ <br>\n",
    "Other functions - https://pandas.pydata.org/pandas-docs/stable/reference/index.html <br>\n"
   ]
  },
  {
   "cell_type": "code",
   "execution_count": 1,
   "metadata": {
    "id": "Vl5UCCLIj48w"
   },
   "outputs": [],
   "source": [
    "#Import Libraries\n",
    "import pandas as pd\n",
    "import numpy as np"
   ]
  },
  {
   "cell_type": "code",
   "execution_count": 2,
   "metadata": {
    "id": "JOa4swpIlMvu"
   },
   "outputs": [
    {
     "data": {
      "text/plain": [
       "(41544, 60)"
      ]
     },
     "execution_count": 2,
     "metadata": {},
     "output_type": "execute_result"
    }
   ],
   "source": [
    "#Import Data\n",
    "ph_df = pd.read_csv(\"philippine_family_income_expenditure.csv\")\n",
    "ph_df.shape"
   ]
  },
  {
   "cell_type": "code",
   "execution_count": 3,
   "metadata": {
    "colab": {
     "base_uri": "https://localhost:8080/"
    },
    "id": "J9Oyw9w0l3Ql",
    "outputId": "b6506fcf-977f-4bdb-9168-e34300c40e60"
   },
   "outputs": [],
   "source": [
    "#Please uncomment the line of code to be used.\n",
    "\n",
    "#Check contents of ph_df\n",
    "#ph_df.info\n",
    "\n",
    "#Check if there exists null data points in the dataframe\n",
    "#ph_df.isnull().any()"
   ]
  },
  {
   "cell_type": "markdown",
   "metadata": {},
   "source": [
    "## 1\n",
    "### Checking for null values\n",
    "\n",
    "Checking whether there are columns that exists on any column at a insignificant quantity."
   ]
  },
  {
   "cell_type": "code",
   "execution_count": 4,
   "metadata": {
    "scrolled": true
   },
   "outputs": [
    {
     "data": {
      "text/plain": [
       "Household Head Occupation         7536\n",
       "Household Head Class of Worker    7536\n",
       "dtype: int64"
      ]
     },
     "execution_count": 4,
     "metadata": {},
     "output_type": "execute_result"
    }
   ],
   "source": [
    "#Count number of null values\n",
    "ph_df_nan=ph_df.columns[ph_df.isnull().any()].tolist()\n",
    "ph_df[ph_df_nan].isnull().sum()"
   ]
  },
  {
   "cell_type": "code",
   "execution_count": 5,
   "metadata": {
    "scrolled": true
   },
   "outputs": [
    {
     "data": {
      "text/plain": [
       "str"
      ]
     },
     "execution_count": 5,
     "metadata": {},
     "output_type": "execute_result"
    }
   ],
   "source": [
    "#Checking datatype of 'Household Head Occupation'\n",
    "type(ph_df['Household Head Occupation'].loc[0])"
   ]
  },
  {
   "cell_type": "code",
   "execution_count": 6,
   "metadata": {},
   "outputs": [
    {
     "data": {
      "text/plain": [
       "str"
      ]
     },
     "execution_count": 6,
     "metadata": {},
     "output_type": "execute_result"
    }
   ],
   "source": [
    "#Checking datatype of 'Household Head Class of Worker'\n",
    "type(ph_df['Household Head Class of Worker'].loc[0])"
   ]
  },
  {
   "cell_type": "markdown",
   "metadata": {},
   "source": [
    "Due to a big number of null values, the values for 'Household Head Occupation' and 'Household Head Class of Worker' won't be ommited, it will rather be replaced with a \"None\" value."
   ]
  },
  {
   "cell_type": "code",
   "execution_count": 7,
   "metadata": {},
   "outputs": [],
   "source": [
    "#Setting mentioned columns with null values to \"None\"\n",
    "ph_df.loc[ph_df['Household Head Occupation'].isnull(),'Household Head Occupation'] = \"None\"\n",
    "ph_df.loc[ph_df['Household Head Class of Worker'].isnull(),'Household Head Class of Worker'] = \"None\""
   ]
  },
  {
   "cell_type": "code",
   "execution_count": 8,
   "metadata": {},
   "outputs": [],
   "source": [
    "#Recheck if there exists null value on any column\n",
    "#ph_df.isnull().any()"
   ]
  },
  {
   "cell_type": "markdown",
   "metadata": {},
   "source": [
    "## 2\n",
    "### Checking for columns of similar nature\n",
    "\n",
    "Notice that there are columns that indicate commonality: <br>\n",
    "**'Number of Car, Jeep, Van', 'Number of Motorized Banca', and 'Number of Motorcycle/Tricycle'** - All of which belong to Personal Mobility or Personal Vehicles. <br>\n",
    "**'Alcoholic Beverages Expenditure' and 'Tobacco Expenditure'** - All of which belong to Unhealthy Lifestyle Products.\n",
    "<br><br>\n",
    "The aforementioned columns can then be replaced with the new columns\n"
   ]
  },
  {
   "cell_type": "code",
   "execution_count": 9,
   "metadata": {
    "scrolled": true
   },
   "outputs": [
    {
     "name": "stdout",
     "output_type": "stream",
     "text": [
      "<class 'pandas.core.frame.DataFrame'>\n",
      "RangeIndex: 41544 entries, 0 to 41543\n",
      "Data columns (total 57 columns):\n",
      " #   Column                                         Non-Null Count  Dtype \n",
      "---  ------                                         --------------  ----- \n",
      " 0   Total Household Income                         41544 non-null  int64 \n",
      " 1   Region                                         41544 non-null  object\n",
      " 2   Total Food Expenditure                         41544 non-null  int64 \n",
      " 3   Main Source of Income                          41544 non-null  object\n",
      " 4   Agricultural Household indicator               41544 non-null  int64 \n",
      " 5   Bread and Cereals Expenditure                  41544 non-null  int64 \n",
      " 6   Total Rice Expenditure                         41544 non-null  int64 \n",
      " 7   Meat Expenditure                               41544 non-null  int64 \n",
      " 8   Total Fish and  marine products Expenditure    41544 non-null  int64 \n",
      " 9   Fruit Expenditure                              41544 non-null  int64 \n",
      " 10  Vegetables Expenditure                         41544 non-null  int64 \n",
      " 11  Restaurant and hotels Expenditure              41544 non-null  int64 \n",
      " 12  Clothing, Footwear and Other Wear Expenditure  41544 non-null  int64 \n",
      " 13  Housing and water Expenditure                  41544 non-null  int64 \n",
      " 14  Imputed House Rental Value                     41544 non-null  int64 \n",
      " 15  Medical Care Expenditure                       41544 non-null  int64 \n",
      " 16  Transportation Expenditure                     41544 non-null  int64 \n",
      " 17  Communication Expenditure                      41544 non-null  int64 \n",
      " 18  Education Expenditure                          41544 non-null  int64 \n",
      " 19  Miscellaneous Goods and Services Expenditure   41544 non-null  int64 \n",
      " 20  Special Occasions Expenditure                  41544 non-null  int64 \n",
      " 21  Crop Farming and Gardening expenses            41544 non-null  int64 \n",
      " 22  Total Income from Entrepreneurial Acitivites   41544 non-null  int64 \n",
      " 23  Household Head Sex                             41544 non-null  object\n",
      " 24  Household Head Age                             41544 non-null  int64 \n",
      " 25  Household Head Marital Status                  41544 non-null  object\n",
      " 26  Household Head Highest Grade Completed         41544 non-null  object\n",
      " 27  Household Head Job or Business Indicator       41544 non-null  object\n",
      " 28  Household Head Occupation                      41544 non-null  object\n",
      " 29  Household Head Class of Worker                 41544 non-null  object\n",
      " 30  Type of Household                              41544 non-null  object\n",
      " 31  Total Number of Family members                 41544 non-null  int64 \n",
      " 32  Members with age less than 5 year old          41544 non-null  int64 \n",
      " 33  Members with age 5 - 17 years old              41544 non-null  int64 \n",
      " 34  Total number of family members employed        41544 non-null  int64 \n",
      " 35  Type of Building/House                         41544 non-null  object\n",
      " 36  Type of Roof                                   41544 non-null  object\n",
      " 37  Type of Walls                                  41544 non-null  object\n",
      " 38  House Floor Area                               41544 non-null  int64 \n",
      " 39  House Age                                      41544 non-null  int64 \n",
      " 40  Number of bedrooms                             41544 non-null  int64 \n",
      " 41  Tenure Status                                  41544 non-null  object\n",
      " 42  Toilet Facilities                              41544 non-null  object\n",
      " 43  Electricity                                    41544 non-null  int64 \n",
      " 44  Main Source of Water Supply                    41544 non-null  object\n",
      " 45  Number of Television                           41544 non-null  int64 \n",
      " 46  Number of CD/VCD/DVD                           41544 non-null  int64 \n",
      " 47  Number of Component/Stereo set                 41544 non-null  int64 \n",
      " 48  Number of Refrigerator/Freezer                 41544 non-null  int64 \n",
      " 49  Number of Washing Machine                      41544 non-null  int64 \n",
      " 50  Number of Airconditioner                       41544 non-null  int64 \n",
      " 51  Number of Landline/wireless telephones         41544 non-null  int64 \n",
      " 52  Number of Cellular phone                       41544 non-null  int64 \n",
      " 53  Number of Personal Computer                    41544 non-null  int64 \n",
      " 54  Number of Stove with Oven/Gas Range            41544 non-null  int64 \n",
      " 55  Number of Vehicles                             41544 non-null  int64 \n",
      " 56  Sin Goods Expenditure                          41544 non-null  int64 \n",
      "dtypes: int64(42), object(15)\n",
      "memory usage: 18.1+ MB\n"
     ]
    }
   ],
   "source": [
    "#Creating New Columns\n",
    "ph_df['Number of Vehicles'] = ph_df['Number of Car, Jeep, Van'] + ph_df['Number of Motorized Banca'] + ph_df['Number of Motorcycle/Tricycle']\n",
    "ph_df['Sin Goods Expenditure'] = ph_df['Alcoholic Beverages Expenditure'] + ph_df['Tobacco Expenditure']\n",
    "\n",
    "#Removing Columns; Don't forget to copy it back to ph_df\n",
    "ph_df = ph_df.drop(columns=['Number of Car, Jeep, Van','Number of Motorized Banca','Number of Motorcycle/Tricycle','Alcoholic Beverages Expenditure','Tobacco Expenditure']).copy()\n",
    "\n",
    "#Validate that changes did occur\n",
    "ph_df.info()"
   ]
  },
  {
   "cell_type": "markdown",
   "metadata": {},
   "source": [
    "Since changes have been made, it should be much simpler to clean any data found within the columns"
   ]
  },
  {
   "cell_type": "markdown",
   "metadata": {},
   "source": [
    "## 3\n",
    "### Determining Object Values\n",
    "\n",
    "Most of the columns presented are of type int64, implying that most are of numeric values which goes in-line with the fact that these are mostly income and expenditure data, however there are some data that are str in datatype.<br>\n",
    "\n",
    "### Columns with str datatype:\n",
    "1. Region<br>\n",
    "2. Main Source of Income<br>\n",
    "3. Household Head Sex<br>\n",
    "4. Household Head Marital Status<br>\n",
    "5. Household Head Highest Grade Completed<br>\n",
    "6. Household Head Job or Business Indicator<br>\n",
    "7. Household Head Occupation<br>\n",
    "8. Household Head Class of Worker<br>\n",
    "9. Type of Household<br>\n",
    "10. Type of Building/House<br>\n",
    "11. Type of Roof<br>\n",
    "12. Type of Walls<br>\n",
    "13. Tenure Status<br>\n",
    "14. Toilet Facilities<br>\n",
    "15. Main Source of Water Supply<br>"
   ]
  },
  {
   "cell_type": "code",
   "execution_count": 10,
   "metadata": {},
   "outputs": [
    {
     "data": {
      "text/plain": [
       "array(['CAR', 'Caraga', 'VI - Western Visayas', 'V - Bicol Region',\n",
       "       ' ARMM', 'III - Central Luzon', 'II - Cagayan Valley',\n",
       "       'IVA - CALABARZON', 'VII - Central Visayas',\n",
       "       'X - Northern Mindanao', 'XI - Davao Region',\n",
       "       'VIII - Eastern Visayas', 'I - Ilocos Region', 'NCR',\n",
       "       'IVB - MIMAROPA', 'XII - SOCCSKSARGEN',\n",
       "       'IX - Zasmboanga Peninsula'], dtype=object)"
      ]
     },
     "execution_count": 10,
     "metadata": {},
     "output_type": "execute_result"
    }
   ],
   "source": [
    "ph_df['Region'].unique()"
   ]
  },
  {
   "cell_type": "code",
   "execution_count": 11,
   "metadata": {},
   "outputs": [
    {
     "data": {
      "text/plain": [
       "array(['Wage/Salaries', 'Other sources of Income',\n",
       "       'Enterpreneurial Activities'], dtype=object)"
      ]
     },
     "execution_count": 11,
     "metadata": {},
     "output_type": "execute_result"
    }
   ],
   "source": [
    "ph_df['Main Source of Income'].unique()"
   ]
  },
  {
   "cell_type": "code",
   "execution_count": 12,
   "metadata": {},
   "outputs": [
    {
     "data": {
      "text/plain": [
       "array(['Female', 'Male'], dtype=object)"
      ]
     },
     "execution_count": 12,
     "metadata": {},
     "output_type": "execute_result"
    }
   ],
   "source": [
    "ph_df['Household Head Sex'].unique()"
   ]
  },
  {
   "cell_type": "code",
   "execution_count": 13,
   "metadata": {},
   "outputs": [
    {
     "data": {
      "text/plain": [
       "array(['Single', 'Married', 'Widowed', 'Divorced/Separated', 'Annulled',\n",
       "       'Unknown'], dtype=object)"
      ]
     },
     "execution_count": 13,
     "metadata": {},
     "output_type": "execute_result"
    }
   ],
   "source": [
    "ph_df['Household Head Marital Status'].unique()"
   ]
  },
  {
   "cell_type": "code",
   "execution_count": 14,
   "metadata": {},
   "outputs": [
    {
     "data": {
      "text/plain": [
       "array(['Teacher Training and Education Sciences Programs',\n",
       "       'Transport Services Programs', 'Grade 3', 'Elementary Graduate',\n",
       "       'Second Year High School', 'Third Year High School',\n",
       "       'Business and Administration Programs', 'First Year College',\n",
       "       'High School Graduate',\n",
       "       'Other Programs in Education at the Third Level, First Stage, of the Type that Leads to an Award not Equivalent to a First University or Baccalaureate Degree',\n",
       "       'Humanities Programs', 'First Year High School', 'Grade 6',\n",
       "       'Grade 4', 'Engineering and Engineering Trades Programs',\n",
       "       'Grade 2', 'Grade 5', 'Social and Behavioral Science Programs',\n",
       "       'Agriculture, Forestry, and Fishery Programs', 'Health Programs',\n",
       "       'Fourth Year College',\n",
       "       'Engineering and Engineering trades Programs',\n",
       "       'Second Year College', 'Third Year College', 'Grade 1',\n",
       "       'No Grade Completed', 'Security Services Programs',\n",
       "       'Basic Programs', 'First Year Post Secondary',\n",
       "       'Second Year Post Secondary', 'Post Baccalaureate',\n",
       "       'Computing/Information Technology Programs',\n",
       "       'Mathematics and Statistics Programs',\n",
       "       'Personal Services Programs', 'Law Programs',\n",
       "       'Journalism and Information Programs',\n",
       "       'Architecture and Building Programs',\n",
       "       'Manufacturing and Processing Programs', 'Life Sciences Programs',\n",
       "       'Other Programs of Education at the Third Level, First Stage, of the Type that Leads to a Baccalaureate or First University/Professional Degree (HIgher Education Level, First Stage, or Collegiate Education Level)',\n",
       "       'Social Services Programs', 'Preschool',\n",
       "       'Physical Sciences Programs', 'Arts Programs',\n",
       "       'Veterinary Programs', 'Environmental Protection Programs'],\n",
       "      dtype=object)"
      ]
     },
     "execution_count": 14,
     "metadata": {},
     "output_type": "execute_result"
    }
   ],
   "source": [
    "ph_df['Household Head Highest Grade Completed'].unique()"
   ]
  },
  {
   "cell_type": "code",
   "execution_count": 15,
   "metadata": {
    "scrolled": false
   },
   "outputs": [
    {
     "data": {
      "text/plain": [
       "array(['General elementary education teaching professionals',\n",
       "       'Transport conductors', 'Farmhands and laborers', 'Rice farmers',\n",
       "       'General managers/managing proprietors in transportation, storage and communications',\n",
       "       'Heavy truck and lorry drivers', 'None', 'Hog raising farmers',\n",
       "       'Vegetable farmers',\n",
       "       'General managers/managing proprietors in wholesale and retail trade',\n",
       "       'Stocks clerks', 'Justices', 'Other social science professionals',\n",
       "       'Protective services workers n. e. c.', 'Secretaries',\n",
       "       'Electronics mechanics and servicers',\n",
       "       'Foresters and related scientists',\n",
       "       'Shop salespersons and demonstrators',\n",
       "       'College, university and higher education teaching professionals',\n",
       "       'General managers/managing proprietors of restaurants and hotels',\n",
       "       'Welders and flamecutters', 'Car, taxi and van drivers',\n",
       "       'Motor vehicle mechanics and related trades workers',\n",
       "       'Traditional chiefs and heads of villages', 'Motorcycle drivers',\n",
       "       'Statistical, mathematical and related associate professionals',\n",
       "       'Lineman, line installers and cable splicers',\n",
       "       'Carpenters and joiners', 'Building construction laborers',\n",
       "       'General managers/managing proprietors in manufacturing',\n",
       "       'Masons and related concrete finishers', 'Legislative officials',\n",
       "       'Inland and coastal waters fishermen',\n",
       "       'Painters and related workers',\n",
       "       'Construction and maintenance laborers: roads, dams and similar constructions',\n",
       "       'Helpers and cleaners in offices, hotels and other establishments',\n",
       "       'General managers/managing proprietors n. e. c.',\n",
       "       'Messengers, package and luggage porters and deliverers',\n",
       "       'Social work associate professionals',\n",
       "       'Hand packers and other manufacturing laborers',\n",
       "       'Door-to-door and telephone salespersons',\n",
       "       'Hand launderers and pressers', 'Sweepers and related laborers',\n",
       "       'Medical technologists',\n",
       "       'Production and operations managers in agriculture, hunting, forestry and fishery',\n",
       "       'Corn farmers', 'Cooks', 'School supervisors and principals',\n",
       "       'Tailors, dressmakers and hatters',\n",
       "       'Wood and related products assemblers',\n",
       "       'Police inspectors and detectives', 'Coconut farmers',\n",
       "       'Root crops farmers', 'Fruit tree farmers',\n",
       "       'Coffee and cacao farmers', 'Forestry laborers',\n",
       "       'Other office clerks',\n",
       "       'General managers/managing proprietors of business services',\n",
       "       'School principals', 'Civil engineers', 'Prison guards',\n",
       "       \"Ship's deck crews and related workers\", 'Assembling laborers',\n",
       "       'Tellers and other counter clerks',\n",
       "       'Government administrators (including career executive service officers)',\n",
       "       'Plumbers, pipe fitters and other related workers',\n",
       "       'Mechanical engineering technicians', 'Street ambulant vendors',\n",
       "       'Production supervisors and general foremen', 'Food preservers',\n",
       "       'Basketry weavers, brush makers and related workers',\n",
       "       'Statistical and finance clerks',\n",
       "       'Non-ordained religious associate professionals',\n",
       "       'Wood products machine operators',\n",
       "       'Building and related electricians',\n",
       "       'Production and operations managers in restaurant and hotels',\n",
       "       'Other supervisors, n. e. c.', 'Other orchard farmers',\n",
       "       'Building caretakers',\n",
       "       'Doorkeepers, watchpersons and related workers',\n",
       "       'Waiters, waitresses and bartenders',\n",
       "       \"Ships' deck officers and pilots\", 'Child care workers',\n",
       "       'Mining and quarrying laborers', 'Religious professionals',\n",
       "       'Earth-moving and related plant operators',\n",
       "       'General managers/managing proprietors in agriculture, hunting, forestry and fishing',\n",
       "       'Motorized farm and forestry plant operators',\n",
       "       'Domestic helpers and cleaners',\n",
       "       'Broadcasting and telecommunications equipment operators',\n",
       "       'General secondary education teaching professionals',\n",
       "       'Accounting and bookkeeping clerks',\n",
       "       'Chemical processing plant operators n. e. c.', 'Freight handlers',\n",
       "       'Fishery laborers and helpers', 'Data entry operators',\n",
       "       'Miners and quarry workers', 'Police officers',\n",
       "       'Cabinet/furniture makers and related workers', 'Duck raisers',\n",
       "       'Blacksmiths, hammersmiths, and forging-press workers',\n",
       "       'General managers/managing proprietors in personal care, cleaning and relative services',\n",
       "       'Butchers, fishmongers and related food preparers',\n",
       "       'Cotton and fiber crops farmers', 'Forest tree planters',\n",
       "       'Bet bookmakers and croupiers', 'Transport clerks',\n",
       "       'Enlisted personnel n. e. c.',\n",
       "       'Directors and chief executives of corporations',\n",
       "       'Combat soldiers', 'Concessionaires and loggers',\n",
       "       'Institution-based personal care workers',\n",
       "       'Market and sidewalk stall vendors',\n",
       "       'Minor forest products gatherers',\n",
       "       'Debt collectors and related workers',\n",
       "       'Vocational education teaching professionals',\n",
       "       'Wood processing plant operators', 'Shotfirers and blasters',\n",
       "       'Fruit, vegetable and nut processing machine operators',\n",
       "       'Lifting truck operators',\n",
       "       'Bakers, pastry cooks and confectionery makers',\n",
       "       'Photographic products machine operators',\n",
       "       'Rattan, bamboo and other wicker furniture makers',\n",
       "       'Chicken farmers', 'Mining-plant operators',\n",
       "       'Rubber products machine operators',\n",
       "       'Pawnbrokers and money lenders', 'Sheet-metal workers',\n",
       "       'Fish-farm cultivators (excluding prawns)',\n",
       "       'General managers/managing proprietors in construction',\n",
       "       'Stall and market salespersons',\n",
       "       'Handicraft workers in wood and related materials',\n",
       "       'Weavers, knitters and related workers',\n",
       "       'Traditional medicine practitioners',\n",
       "       'Personnel and industrial relations managers',\n",
       "       'Cement and other mineral products machine operators',\n",
       "       'Firefighters', 'Undertakers and embalmers',\n",
       "       'Hairdressers, barbers, beauticians and related workers',\n",
       "       'Shoe cleaning and other street services elementary occupations',\n",
       "       'Silk-screen, block and textile printers',\n",
       "       'Choreographers and dancers', 'Garbage collectors',\n",
       "       'Ornamental plant growers', 'Cashiers and ticket clerks',\n",
       "       'Varnishers and related painters', 'Accountants and auditors',\n",
       "       'Personal care and related workers, n. e. c.',\n",
       "       'Library and filing clerks', 'Cattle and dairy farmers',\n",
       "       'Structural-metal preparers, erectors and related workers',\n",
       "       'Other livestock farmers',\n",
       "       'Production and operations managers in transport, storage and communications',\n",
       "       'Sales and marketing managers',\n",
       "       'Grain and spice milling machine operators', 'Deep-sea fishermen',\n",
       "       'Mechanical engineers',\n",
       "       'Production and operations managers in manufacturing',\n",
       "       'Agronomists and related scientists',\n",
       "       'Research and development managers',\n",
       "       'Computer equipment operators',\n",
       "       'Other administrative associate professionals', 'Bookkeepers',\n",
       "       'Midwifery associate professionals',\n",
       "       'Other machine operators and assemblers',\n",
       "       'Sewers, Embroiderers and related workers',\n",
       "       'Safety, health and quality inspectors (vehicles, processes and products)',\n",
       "       'Electronic equipment assemblers',\n",
       "       'Textile, leather and related patternmakers and cutters',\n",
       "       'Roofers', 'Other field crop farmers', 'Sugarcane farmers',\n",
       "       'Power production plant operators', 'Other poultry farmers',\n",
       "       'Metal-wheel grinders, polishers and tool sharpeners',\n",
       "       'Other computer professionals', 'Electrical mechanics and fitters',\n",
       "       'Metal finishing, plating and coating machine operators',\n",
       "       'Professional nurses',\n",
       "       'Professional, technical and related officers',\n",
       "       'Charcoal makers and related workers',\n",
       "       'Athletes and related workers',\n",
       "       'Decorators and commercial designers',\n",
       "       'Automated assembly-line operators',\n",
       "       'Labor contractors and employment agents',\n",
       "       'Sugar production machine operators', 'Veterinary assistants',\n",
       "       'Glass makers, cutters, grinders and finishers',\n",
       "       'Production and operations managers in personal care, cleaning and relative services',\n",
       "       'Tool-makers and related workers',\n",
       "       'Transport and communications service supervisors n. e. c.',\n",
       "       'Other specialized managers', 'Riggers and cable splicers',\n",
       "       'Production and operations managers in wholesale and retail trade',\n",
       "       'Field legumes farmers', 'Staff officers', 'Estate agents',\n",
       "       'Technical and commercial sales representatives',\n",
       "       'Computer programmers', 'Receptionists and information clerks',\n",
       "       'Pharmacists', 'Housekeepers and related workers',\n",
       "       'Appraisers and valuers', 'Government tax and excise officials',\n",
       "       'Administrative secretaries and related associate professionals',\n",
       "       'Bus drivers', 'Teaching associate professionals', 'Architects',\n",
       "       'Finance and administration managers', 'Commanding officers',\n",
       "       'Nutritionists-dietitians', 'Professional midwives',\n",
       "       'Street, nightclub and related musicians, singers and dancers',\n",
       "       'Electrical Engineers',\n",
       "       'Mining and metallurgical engineering technicians', 'Draftsmen',\n",
       "       'Computer engineers and related professionals',\n",
       "       'Other life science technicians', 'Dairy products makers',\n",
       "       'Legal and related business associate professionals',\n",
       "       'Mail carriers and sorting clerks',\n",
       "       'Well drillers and borers and related workers',\n",
       "       'Other business professionals',\n",
       "       'Production and operations managers in construction',\n",
       "       'Farm technicians', 'Economists',\n",
       "       'Building frame and related trades workers n. e. c.', 'Chemists',\n",
       "       'Insurance representatives', 'Civil engineering technicians',\n",
       "       'Word processor and related operators', 'Production clerks',\n",
       "       'Meat and fish processing machine operators',\n",
       "       'Other personal services workers, n. e. c.',\n",
       "       'Crane, hoist and related plant operators',\n",
       "       'Composers, musicians and singers',\n",
       "       'Photographers and image and sound recording equipment operators',\n",
       "       'Hand or pedal vehicle drivers', 'Statisticians',\n",
       "       'Customs and immigration inspectors',\n",
       "       'Electronics and communications engineers',\n",
       "       'Fashion and other models',\n",
       "       'Metal melters, caster and rolling mill operators',\n",
       "       'Weaving and knitting machine operators',\n",
       "       'Personnel and human resource development professionals',\n",
       "       'Mechanical machinery assemblers',\n",
       "       'Workers reporting occupations unidentifiable or inadequately defined',\n",
       "       'Sales supervisors in retail trade', 'Metal drawers and extruders',\n",
       "       'Floor layers and tile setters', 'Systems analysts and designers',\n",
       "       'Government licensing officials',\n",
       "       'Librarians, archivists and curators',\n",
       "       'Incinerator, water treatment and related plant operators',\n",
       "       'Town planners and related professionals',\n",
       "       'Home-based personal care workers',\n",
       "       'Education methods specialists',\n",
       "       'Sculptors, painters and related artists', 'Buyers',\n",
       "       'Other health associate professionals (except nursing)',\n",
       "       'Precision instrument makers and repairers', 'Medical assistants',\n",
       "       'Medical doctors', 'Compositors, typesetters and related workers',\n",
       "       'Faith healers', 'Travel consultants and organizers',\n",
       "       'Air transport service supervisors', 'Companions and valets',\n",
       "       'Senior officials of humanitarian and other special-interest organizations',\n",
       "       'Electrical equipment assemblers',\n",
       "       'Metal, rubber and plastic products assemblers',\n",
       "       'Electronics and communications engineering technicians',\n",
       "       'Industrial engineers',\n",
       "       'Baked goods and cereal and chocolate products machine operators',\n",
       "       'Metal molders and coremakers', 'Lawyers', 'Dentists',\n",
       "       'Marine craft mechanics',\n",
       "       'Pre-elementary education teaching professionals',\n",
       "       'Bookbinders and related workers',\n",
       "       'Jewelry and precious metal workers', 'Travel guides',\n",
       "       'Social work professionals',\n",
       "       'Musical instrument makers and tuners',\n",
       "       'Machine-tool setters and setter operators',\n",
       "       'Stenographers and typists',\n",
       "       'Stone splitters, cutters and carvers',\n",
       "       'Ship and aircraft controllers and technicians',\n",
       "       'Photographic and related workers', 'Computer assistants',\n",
       "       'Aircraft engine mechanics and fitters',\n",
       "       'Production and operations managers in business services',\n",
       "       'Woodworking machine setters and setter-operators',\n",
       "       'Food and beverage tasters and graders',\n",
       "       'Technical and vocational instructors/trainors', 'Trade brokers',\n",
       "       'Radio, television and other announcers',\n",
       "       'Air traffic safety technicians', 'Other plant growers',\n",
       "       'Pressman letterpresses and related workers',\n",
       "       'Other health professionals (except nursing)',\n",
       "       'Mineral ore and stone-processing plant operators',\n",
       "       'Shoemakers and related workers',\n",
       "       'Agricultural or industrial machinery mechanics and fitters',\n",
       "       'Nonformal education teaching professionals other than technical and vocational trainors/instructors',\n",
       "       'Seaweeds cultivators', 'Upholsterers and related workers',\n",
       "       'Sales supervisors in wholesale trade', 'Insulation workers',\n",
       "       'Machine tool operators', 'Authors, journalists and other writers',\n",
       "       'Technician, skilled, semi-skilled workers',\n",
       "       'Tobacco preparers and tobacco products makers',\n",
       "       'Other physical science and engineering technicians',\n",
       "       'Other sales supervisors',\n",
       "       'Brewers and wine and other beverage machine operators',\n",
       "       'Supply and distribution managers', 'Papermaking plant operators',\n",
       "       'Pharmaceutical and toiletry products machine operators',\n",
       "       'Paperboard, textile and related products assemblers',\n",
       "       'Building and fire inspectors',\n",
       "       'Telecommunication equipment installers and repairers',\n",
       "       'Plastic products machine operators', 'Industrial robot operators',\n",
       "       'Chemical engineers', 'Dairy products machine operators',\n",
       "       'Fishermen n. e. c.',\n",
       "       'Science and mathematics teaching professionals',\n",
       "       'Dental assistants',\n",
       "       'Drivers of animal-drawn vehicles and machinery',\n",
       "       'Postal service supervisors',\n",
       "       'Science and mathematics elementary education teaching professionals',\n",
       "       'Hunting and trapping laborers',\n",
       "       'Other government associate professionals',\n",
       "       'Coding, proof-reading and related clerks',\n",
       "       'Geodetic engineers and related professionals',\n",
       "       'Business machines mechanics and repairers',\n",
       "       'Bleaching, dyeing and cleaning machine operators',\n",
       "       'Other finance and sales associate professionals',\n",
       "       'Life science technicians', 'Telephone switchboard operators',\n",
       "       'Other animal raisers', 'Pharmaceutical assistants',\n",
       "       'Petroleum and natural gas refining plant operators',\n",
       "       'Builders (traditional materials)',\n",
       "       'Maritime transport service supervisors',\n",
       "       'Service and related workers', 'Medical equipment operators',\n",
       "       'Electronics fitters',\n",
       "       'Fiber preparing, spinning and winding machine operators',\n",
       "       'Hunters and trappers',\n",
       "       'Other business services and trade brokers',\n",
       "       'Shoemaking and related machine operators',\n",
       "       'Other aqua products cultivators',\n",
       "       'Government social benefits officials',\n",
       "       'Potters and related clay and abrasive formers',\n",
       "       'Other creative or performing artists',\n",
       "       'Other teaching professionals', 'Tree nut farmers',\n",
       "       'Fiber preparers', 'Officers, n. e. c.',\n",
       "       'Nursing associate professionals',\n",
       "       'Vehicle, window and related cleaners',\n",
       "       'Other engineers and related professionals', 'Physiotherapists',\n",
       "       'Tanners', 'Glass and ceramics kiln and related machine operators',\n",
       "       'Textile and leather products machine operators n. e. c.',\n",
       "       'Optometrists and opticians', 'Locomotive engine drivers',\n",
       "       'Chemical products machine operators n. e. c.', 'Wood treaters',\n",
       "       'Electrical engineering technicians',\n",
       "       'Advertising and public relations managers',\n",
       "       'Paper pulp plant operators', 'Veterinarians',\n",
       "       'Sewing machine operators',\n",
       "       'Aircraft pilots, navigators and flight engineers',\n",
       "       'Glass, ceramics and related plant operators n. e. c.'],\n",
       "      dtype=object)"
      ]
     },
     "execution_count": 15,
     "metadata": {},
     "output_type": "execute_result"
    }
   ],
   "source": [
    "ph_df['Household Head Occupation'].unique()"
   ]
  },
  {
   "cell_type": "code",
   "execution_count": 16,
   "metadata": {},
   "outputs": [
    {
     "data": {
      "text/plain": [
       "array(['Worked for government/government corporation',\n",
       "       'Worked for private establishment',\n",
       "       'Employer in own family-operated farm or business',\n",
       "       'Self-employed wihout any employee', 'None',\n",
       "       'Worked without pay in own family-operated farm or business',\n",
       "       'Worked for private household',\n",
       "       'Worked with pay in own family-operated farm or business'],\n",
       "      dtype=object)"
      ]
     },
     "execution_count": 16,
     "metadata": {},
     "output_type": "execute_result"
    }
   ],
   "source": [
    "ph_df['Household Head Class of Worker'].unique()"
   ]
  },
  {
   "cell_type": "code",
   "execution_count": 17,
   "metadata": {},
   "outputs": [
    {
     "data": {
      "text/plain": [
       "array(['Extended Family', 'Single Family',\n",
       "       'Two or More Nonrelated Persons/Members'], dtype=object)"
      ]
     },
     "execution_count": 17,
     "metadata": {},
     "output_type": "execute_result"
    }
   ],
   "source": [
    "ph_df['Type of Household'].unique()"
   ]
  },
  {
   "cell_type": "code",
   "execution_count": 18,
   "metadata": {},
   "outputs": [
    {
     "data": {
      "text/plain": [
       "array(['Single house', 'Duplex',\n",
       "       'Commercial/industrial/agricultural building',\n",
       "       'Multi-unit residential', 'Institutional living quarter',\n",
       "       'Other building unit (e.g. cave, boat)'], dtype=object)"
      ]
     },
     "execution_count": 18,
     "metadata": {},
     "output_type": "execute_result"
    }
   ],
   "source": [
    "ph_df['Type of Building/House'].unique()"
   ]
  },
  {
   "cell_type": "code",
   "execution_count": 19,
   "metadata": {},
   "outputs": [
    {
     "data": {
      "text/plain": [
       "array(['Strong material(galvanized,iron,al,tile,concrete,brick,stone,asbestos)',\n",
       "       'Light material (cogon,nipa,anahaw)',\n",
       "       'Mixed but predominantly strong materials',\n",
       "       'Mixed but predominantly light materials',\n",
       "       'Salvaged/makeshift materials',\n",
       "       'Mixed but predominantly salvaged materials', 'Not Applicable'],\n",
       "      dtype=object)"
      ]
     },
     "execution_count": 19,
     "metadata": {},
     "output_type": "execute_result"
    }
   ],
   "source": [
    "ph_df['Type of Roof'].unique()"
   ]
  },
  {
   "cell_type": "code",
   "execution_count": 20,
   "metadata": {},
   "outputs": [
    {
     "data": {
      "text/plain": [
       "array(['Strong', 'Light', 'Quite Strong', 'Very Light', 'Salvaged',\n",
       "       'NOt applicable'], dtype=object)"
      ]
     },
     "execution_count": 20,
     "metadata": {},
     "output_type": "execute_result"
    }
   ],
   "source": [
    "ph_df['Type of Walls'].unique()"
   ]
  },
  {
   "cell_type": "code",
   "execution_count": 21,
   "metadata": {},
   "outputs": [
    {
     "data": {
      "text/plain": [
       "array(['Own or owner-like possession of house and lot',\n",
       "       'Rent-free house and lot with consent of owner',\n",
       "       'Own house, rent-free lot with consent of owner',\n",
       "       'Own house, rent-free lot without consent of owner',\n",
       "       'Own house, rent lot', 'Rent house/room including lot',\n",
       "       'Not Applicable',\n",
       "       'Rent-free house and lot without consent of owner'], dtype=object)"
      ]
     },
     "execution_count": 21,
     "metadata": {},
     "output_type": "execute_result"
    }
   ],
   "source": [
    "ph_df['Tenure Status'].unique()"
   ]
  },
  {
   "cell_type": "code",
   "execution_count": 22,
   "metadata": {},
   "outputs": [
    {
     "data": {
      "text/plain": [
       "array(['Water-sealed, sewer septic tank, used exclusively by household',\n",
       "       'Water-sealed, sewer septic tank, shared with other household',\n",
       "       'Closed pit',\n",
       "       'Water-sealed, other depository, used exclusively by household',\n",
       "       'Open pit',\n",
       "       'Water-sealed, other depository, shared with other household',\n",
       "       'None', 'Others'], dtype=object)"
      ]
     },
     "execution_count": 22,
     "metadata": {},
     "output_type": "execute_result"
    }
   ],
   "source": [
    "ph_df['Toilet Facilities'].unique()"
   ]
  },
  {
   "cell_type": "code",
   "execution_count": 23,
   "metadata": {},
   "outputs": [
    {
     "data": {
      "text/plain": [
       "array(['Own use, faucet, community water system',\n",
       "       'Shared, faucet, community water system',\n",
       "       'Shared, tubed/piped deep well', 'Own use, tubed/piped deep well',\n",
       "       'Protected spring, river, stream, etc', 'Tubed/piped shallow well',\n",
       "       'Lake, river, rain and others',\n",
       "       'Unprotected spring, river, stream, etc', 'Dug well', 'Others',\n",
       "       'Peddler'], dtype=object)"
      ]
     },
     "execution_count": 23,
     "metadata": {},
     "output_type": "execute_result"
    }
   ],
   "source": [
    "ph_df['Main Source of Water Supply'].unique()"
   ]
  },
  {
   "cell_type": "markdown",
   "metadata": {},
   "source": [
    "## 4\n",
    "### Checking Region Population"
   ]
  },
  {
   "cell_type": "code",
   "execution_count": 33,
   "metadata": {},
   "outputs": [
    {
     "data": {
      "text/plain": [
       "IVA - CALABARZON             10.018294\n",
       "NCR                           9.941267\n",
       "III - Central Luzon           7.791739\n",
       "VI - Western Visayas          6.862604\n",
       "VII - Central Visayas         6.116407\n",
       "V - Bicol Region              5.950318\n",
       "XI - Davao Region             5.887733\n",
       "I - Ilocos Region             5.651839\n",
       "VIII - Eastern Visayas        5.625361\n",
       " ARMM                         5.411130\n",
       "II - Cagayan Valley           5.341325\n",
       "XII - SOCCSKSARGEN            5.107837\n",
       "X - Northern Mindanao         4.542172\n",
       "IX - Zasmboanga Peninsula     4.303871\n",
       "Caraga                        4.289428\n",
       "CAR                           4.152224\n",
       "IVB - MIMAROPA                3.006451\n",
       "Name: Region, dtype: float64"
      ]
     },
     "execution_count": 33,
     "metadata": {},
     "output_type": "execute_result"
    }
   ],
   "source": [
    "over = 1 / (ph_df.shape)[0] #retrieve rows on df\n",
    "\n",
    "ph_pop_percentage = 100 * ( ph_df['Region'].value_counts() * over )\n",
    "\n",
    "ph_pop_percentage"
   ]
  }
 ],
 "metadata": {
  "colab": {
   "collapsed_sections": [],
   "name": "CSMODEL Test",
   "provenance": []
  },
  "kernelspec": {
   "display_name": "Python 3",
   "language": "python",
   "name": "python3"
  },
  "language_info": {
   "codemirror_mode": {
    "name": "ipython",
    "version": 3
   },
   "file_extension": ".py",
   "mimetype": "text/x-python",
   "name": "python",
   "nbconvert_exporter": "python",
   "pygments_lexer": "ipython3",
   "version": "3.8.8"
  }
 },
 "nbformat": 4,
 "nbformat_minor": 1
}
