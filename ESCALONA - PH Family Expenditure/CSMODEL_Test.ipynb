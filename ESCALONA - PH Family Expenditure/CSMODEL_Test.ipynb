{
 "cells": [
  {
   "cell_type": "markdown",
   "metadata": {},
   "source": [
    "# CSMODEL_Test"
   ]
  },
  {
   "cell_type": "markdown",
   "metadata": {},
   "source": [
    "### Data: Philippine Family Income and Expenditures\n",
    "Data Size: 41544 rows x 60 columns<br>\n",
    "\n",
    "The dataset was sourced by Francis Paul Flores which was provided by the Philippine Statistics Office PSA in 2017. Accroding to Flores, the PSA conducts Family Income and Expenditure Surveys on the nation every three years. This aims to provide data regarding patterns on how family incomes affect expenditure and consumption of goods/services by families in the country.\n",
    "<br><br>\n",
    "**Sources:** <br> \n",
    "Dataset - https://www.kaggle.com/grosvenpaul/family-income-and-expenditure <br>\n",
    "Combining Columns - https://www.statology.org/pandas-combine-two-columns/ <br>\n",
    "Other functions - https://pandas.pydata.org/pandas-docs/stable/reference/index.html <br>\n"
   ]
  },
  {
   "cell_type": "code",
   "execution_count": 1,
   "metadata": {
    "id": "Vl5UCCLIj48w"
   },
   "outputs": [],
   "source": [
    "#Import Libraries\n",
    "import pandas as pd\n",
    "import numpy as np"
   ]
  },
  {
   "cell_type": "code",
   "execution_count": 2,
   "metadata": {
    "id": "JOa4swpIlMvu"
   },
   "outputs": [
    {
     "data": {
      "text/plain": [
       "(41544, 60)"
      ]
     },
     "execution_count": 2,
     "metadata": {},
     "output_type": "execute_result"
    }
   ],
   "source": [
    "#Import Data\n",
    "ph_df = pd.read_csv(\"philippine_family_income_expenditure.csv\")\n",
    "ph_df.shape"
   ]
  },
  {
   "cell_type": "code",
   "execution_count": 3,
   "metadata": {
    "colab": {
     "base_uri": "https://localhost:8080/"
    },
    "id": "J9Oyw9w0l3Ql",
    "outputId": "b6506fcf-977f-4bdb-9168-e34300c40e60"
   },
   "outputs": [],
   "source": [
    "#Please uncomment the line of code to be used.\n",
    "\n",
    "#Check contents of ph_df\n",
    "#ph_df.info\n",
    "\n",
    "#Check if there exists null data points in the dataframe\n",
    "#ph_df.isnull().any()"
   ]
  },
  {
   "cell_type": "markdown",
   "metadata": {},
   "source": [
    "## 1\n",
    "### Checking for null values\n",
    "\n",
    "Checking whether there are columns that exists on any column at a insignificant quantity."
   ]
  },
  {
   "cell_type": "code",
   "execution_count": 4,
   "metadata": {
    "scrolled": true
   },
   "outputs": [
    {
     "data": {
      "text/plain": [
       "Household Head Occupation         7536\n",
       "Household Head Class of Worker    7536\n",
       "dtype: int64"
      ]
     },
     "execution_count": 4,
     "metadata": {},
     "output_type": "execute_result"
    }
   ],
   "source": [
    "#Count number of null values\n",
    "ph_df_nan=ph_df.columns[ph_df.isnull().any()].tolist()\n",
    "ph_df[ph_df_nan].isnull().sum()"
   ]
  },
  {
   "cell_type": "code",
   "execution_count": 5,
   "metadata": {
    "scrolled": true
   },
   "outputs": [
    {
     "data": {
      "text/plain": [
       "str"
      ]
     },
     "execution_count": 5,
     "metadata": {},
     "output_type": "execute_result"
    }
   ],
   "source": [
    "#Checking datatype of 'Household Head Occupation'\n",
    "type(ph_df['Household Head Occupation'].loc[0])"
   ]
  },
  {
   "cell_type": "code",
   "execution_count": 6,
   "metadata": {},
   "outputs": [
    {
     "data": {
      "text/plain": [
       "str"
      ]
     },
     "execution_count": 6,
     "metadata": {},
     "output_type": "execute_result"
    }
   ],
   "source": [
    "#Checking datatype of 'Household Head Class of Worker'\n",
    "type(ph_df['Household Head Class of Worker'].loc[0])"
   ]
  },
  {
   "cell_type": "markdown",
   "metadata": {},
   "source": [
    "Due to a big number of null values, the values for 'Household Head Occupation' and 'Household Head Class of Worker' won't be ommited, it will rather be replaced with a \"None\" value."
   ]
  },
  {
   "cell_type": "code",
   "execution_count": 7,
   "metadata": {},
   "outputs": [],
   "source": [
    "#Setting mentioned columns with null values to \"None\"\n",
    "ph_df.loc[ph_df['Household Head Occupation'].isnull(),'Household Head Occupation'] = \"None\"\n",
    "ph_df.loc[ph_df['Household Head Class of Worker'].isnull(),'Household Head Class of Worker'] = \"None\""
   ]
  },
  {
   "cell_type": "code",
   "execution_count": 8,
   "metadata": {},
   "outputs": [],
   "source": [
    "#Recheck if there exists null value on any column\n",
    "#ph_df.isnull().any()"
   ]
  },
  {
   "cell_type": "markdown",
   "metadata": {},
   "source": [
    "## 2\n",
    "### Checking for columns of similar nature\n",
    "\n",
    "Notice that there are columns that indicate commonality: <br>\n",
    "**'Number of Car, Jeep, Van', 'Number of Motorized Banca', and 'Number of Motorcycle/Tricycle'** - All of which belong to Personal Mobility or Personal Vehicles. <br>\n",
    "**'Alcoholic Beverages Expenditure' and 'Tobacco Expenditure'** - All of which belong to Unhealthy Lifestyle Products.\n",
    "<br><br>\n",
    "The aforementioned columns can then be replaced with the new columns\n"
   ]
  },
  {
   "cell_type": "code",
   "execution_count": 9,
   "metadata": {
    "scrolled": true
   },
   "outputs": [
    {
     "name": "stdout",
     "output_type": "stream",
     "text": [
      "<class 'pandas.core.frame.DataFrame'>\n",
      "RangeIndex: 41544 entries, 0 to 41543\n",
      "Data columns (total 57 columns):\n",
      " #   Column                                         Non-Null Count  Dtype \n",
      "---  ------                                         --------------  ----- \n",
      " 0   Total Household Income                         41544 non-null  int64 \n",
      " 1   Region                                         41544 non-null  object\n",
      " 2   Total Food Expenditure                         41544 non-null  int64 \n",
      " 3   Main Source of Income                          41544 non-null  object\n",
      " 4   Agricultural Household indicator               41544 non-null  int64 \n",
      " 5   Bread and Cereals Expenditure                  41544 non-null  int64 \n",
      " 6   Total Rice Expenditure                         41544 non-null  int64 \n",
      " 7   Meat Expenditure                               41544 non-null  int64 \n",
      " 8   Total Fish and  marine products Expenditure    41544 non-null  int64 \n",
      " 9   Fruit Expenditure                              41544 non-null  int64 \n",
      " 10  Vegetables Expenditure                         41544 non-null  int64 \n",
      " 11  Restaurant and hotels Expenditure              41544 non-null  int64 \n",
      " 12  Clothing, Footwear and Other Wear Expenditure  41544 non-null  int64 \n",
      " 13  Housing and water Expenditure                  41544 non-null  int64 \n",
      " 14  Imputed House Rental Value                     41544 non-null  int64 \n",
      " 15  Medical Care Expenditure                       41544 non-null  int64 \n",
      " 16  Transportation Expenditure                     41544 non-null  int64 \n",
      " 17  Communication Expenditure                      41544 non-null  int64 \n",
      " 18  Education Expenditure                          41544 non-null  int64 \n",
      " 19  Miscellaneous Goods and Services Expenditure   41544 non-null  int64 \n",
      " 20  Special Occasions Expenditure                  41544 non-null  int64 \n",
      " 21  Crop Farming and Gardening expenses            41544 non-null  int64 \n",
      " 22  Total Income from Entrepreneurial Acitivites   41544 non-null  int64 \n",
      " 23  Household Head Sex                             41544 non-null  object\n",
      " 24  Household Head Age                             41544 non-null  int64 \n",
      " 25  Household Head Marital Status                  41544 non-null  object\n",
      " 26  Household Head Highest Grade Completed         41544 non-null  object\n",
      " 27  Household Head Job or Business Indicator       41544 non-null  object\n",
      " 28  Household Head Occupation                      41544 non-null  object\n",
      " 29  Household Head Class of Worker                 41544 non-null  object\n",
      " 30  Type of Household                              41544 non-null  object\n",
      " 31  Total Number of Family members                 41544 non-null  int64 \n",
      " 32  Members with age less than 5 year old          41544 non-null  int64 \n",
      " 33  Members with age 5 - 17 years old              41544 non-null  int64 \n",
      " 34  Total number of family members employed        41544 non-null  int64 \n",
      " 35  Type of Building/House                         41544 non-null  object\n",
      " 36  Type of Roof                                   41544 non-null  object\n",
      " 37  Type of Walls                                  41544 non-null  object\n",
      " 38  House Floor Area                               41544 non-null  int64 \n",
      " 39  House Age                                      41544 non-null  int64 \n",
      " 40  Number of bedrooms                             41544 non-null  int64 \n",
      " 41  Tenure Status                                  41544 non-null  object\n",
      " 42  Toilet Facilities                              41544 non-null  object\n",
      " 43  Electricity                                    41544 non-null  int64 \n",
      " 44  Main Source of Water Supply                    41544 non-null  object\n",
      " 45  Number of Television                           41544 non-null  int64 \n",
      " 46  Number of CD/VCD/DVD                           41544 non-null  int64 \n",
      " 47  Number of Component/Stereo set                 41544 non-null  int64 \n",
      " 48  Number of Refrigerator/Freezer                 41544 non-null  int64 \n",
      " 49  Number of Washing Machine                      41544 non-null  int64 \n",
      " 50  Number of Airconditioner                       41544 non-null  int64 \n",
      " 51  Number of Landline/wireless telephones         41544 non-null  int64 \n",
      " 52  Number of Cellular phone                       41544 non-null  int64 \n",
      " 53  Number of Personal Computer                    41544 non-null  int64 \n",
      " 54  Number of Stove with Oven/Gas Range            41544 non-null  int64 \n",
      " 55  Number of Vehicles                             41544 non-null  int64 \n",
      " 56  Sin Goods Expenditure                          41544 non-null  int64 \n",
      "dtypes: int64(42), object(15)\n",
      "memory usage: 18.1+ MB\n"
     ]
    }
   ],
   "source": [
    "#Creating New Columns\n",
    "ph_df['Number of Vehicles'] = ph_df['Number of Car, Jeep, Van'] + ph_df['Number of Motorized Banca'] + ph_df['Number of Motorcycle/Tricycle']\n",
    "ph_df['Sin Goods Expenditure'] = ph_df['Alcoholic Beverages Expenditure'] + ph_df['Tobacco Expenditure']\n",
    "\n",
    "#Removing Columns; Don't forget to copy it back to ph_df\n",
    "ph_df = ph_df.drop(columns=['Number of Car, Jeep, Van','Number of Motorized Banca','Number of Motorcycle/Tricycle','Alcoholic Beverages Expenditure','Tobacco Expenditure']).copy()\n",
    "\n",
    "#Validate that changes did occur\n",
    "ph_df.info()"
   ]
  },
  {
   "cell_type": "markdown",
   "metadata": {},
   "source": [
    "Since changes have been made, it should be much simpler to clean any data found within the columns"
   ]
  },
  {
   "cell_type": "markdown",
   "metadata": {},
   "source": [
    "## 3\n",
    "### Determining Object Values\n",
    "\n",
    "Most of the columns presented are of type int64, implying that most are of numeric values which goes in-line with the fact that these are mostly income and expenditure data, however there are some data that are str in datatype."
   ]
  }
 ],
 "metadata": {
  "colab": {
   "collapsed_sections": [],
   "name": "CSMODEL Test",
   "provenance": []
  },
  "kernelspec": {
   "display_name": "Python 3",
   "language": "python",
   "name": "python3"
  },
  "language_info": {
   "codemirror_mode": {
    "name": "ipython",
    "version": 3
   },
   "file_extension": ".py",
   "mimetype": "text/x-python",
   "name": "python",
   "nbconvert_exporter": "python",
   "pygments_lexer": "ipython3",
   "version": "3.8.8"
  }
 },
 "nbformat": 4,
 "nbformat_minor": 1
}
